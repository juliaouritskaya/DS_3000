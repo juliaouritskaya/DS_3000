{
 "cells": [
  {
   "cell_type": "markdown",
   "id": "029991b3",
   "metadata": {},
   "source": [
    "# Data Science Project"
   ]
  },
  {
   "cell_type": "markdown",
   "id": "45271fda",
   "metadata": {},
   "source": [
    "## Data Acquisition and Preparation"
   ]
  },
  {
   "cell_type": "markdown",
   "id": "c77e7090",
   "metadata": {},
   "source": [
    "### Import Necessary Libraries"
   ]
  },
  {
   "cell_type": "code",
   "execution_count": 27,
   "id": "38f915ea",
   "metadata": {},
   "outputs": [],
   "source": [
    "# Import libraries\n",
    "import pandas as pd\n",
    "import numpy as np\n",
    "import matplotlib.pyplot as plt\n",
    "import seaborn as sns\n",
    "from statsmodels.formula.api import ols\n",
    "from sklearn.linear_model import LinearRegression\n",
    "from scipy import stats\n",
    "from sklearn.preprocessing import OneHotEncoder, StandardScaler\n",
    "from sklearn.model_selection import train_test_split\n",
    "from sklearn.model_selection import GridSearchCV\n",
    "from sklearn.tree import DecisionTreeRegressor\n",
    "from sklearn.ensemble import RandomForestRegressor\n",
    "from sklearn.neighbors import KNeighborsRegressor\n",
    "from sklearn.metrics import mean_squared_error"
   ]
  },
  {
   "cell_type": "markdown",
   "id": "37b709ec",
   "metadata": {},
   "source": [
    "### Load the Datasets"
   ]
  },
  {
   "cell_type": "code",
   "execution_count": 28,
   "id": "76e285a0",
   "metadata": {},
   "outputs": [],
   "source": [
    "# Load the crashes dataset\n",
    "crashes = pd.read_csv('Motor_Vehicle_Collisions_Crashes.csv', low_memory=False)"
   ]
  },
  {
   "cell_type": "markdown",
   "id": "6f3002e8",
   "metadata": {},
   "source": [
    "### Overview of the Data"
   ]
  },
  {
   "cell_type": "code",
   "execution_count": 29,
   "id": "749cc5df",
   "metadata": {},
   "outputs": [
    {
     "data": {
      "text/html": [
       "<div>\n",
       "<style scoped>\n",
       "    .dataframe tbody tr th:only-of-type {\n",
       "        vertical-align: middle;\n",
       "    }\n",
       "\n",
       "    .dataframe tbody tr th {\n",
       "        vertical-align: top;\n",
       "    }\n",
       "\n",
       "    .dataframe thead th {\n",
       "        text-align: right;\n",
       "    }\n",
       "</style>\n",
       "<table border=\"1\" class=\"dataframe\">\n",
       "  <thead>\n",
       "    <tr style=\"text-align: right;\">\n",
       "      <th></th>\n",
       "      <th>CRASH DATE</th>\n",
       "      <th>CRASH TIME</th>\n",
       "      <th>BOROUGH</th>\n",
       "      <th>ZIP CODE</th>\n",
       "      <th>LATITUDE</th>\n",
       "      <th>LONGITUDE</th>\n",
       "      <th>LOCATION</th>\n",
       "      <th>ON STREET NAME</th>\n",
       "      <th>CROSS STREET NAME</th>\n",
       "      <th>OFF STREET NAME</th>\n",
       "      <th>...</th>\n",
       "      <th>CONTRIBUTING FACTOR VEHICLE 2</th>\n",
       "      <th>CONTRIBUTING FACTOR VEHICLE 3</th>\n",
       "      <th>CONTRIBUTING FACTOR VEHICLE 4</th>\n",
       "      <th>CONTRIBUTING FACTOR VEHICLE 5</th>\n",
       "      <th>COLLISION_ID</th>\n",
       "      <th>VEHICLE TYPE CODE 1</th>\n",
       "      <th>VEHICLE TYPE CODE 2</th>\n",
       "      <th>VEHICLE TYPE CODE 3</th>\n",
       "      <th>VEHICLE TYPE CODE 4</th>\n",
       "      <th>VEHICLE TYPE CODE 5</th>\n",
       "    </tr>\n",
       "  </thead>\n",
       "  <tbody>\n",
       "    <tr>\n",
       "      <th>0</th>\n",
       "      <td>09/11/2021</td>\n",
       "      <td>2:39</td>\n",
       "      <td>NaN</td>\n",
       "      <td>NaN</td>\n",
       "      <td>NaN</td>\n",
       "      <td>NaN</td>\n",
       "      <td>NaN</td>\n",
       "      <td>WHITESTONE EXPRESSWAY</td>\n",
       "      <td>20 AVENUE</td>\n",
       "      <td>NaN</td>\n",
       "      <td>...</td>\n",
       "      <td>Unspecified</td>\n",
       "      <td>NaN</td>\n",
       "      <td>NaN</td>\n",
       "      <td>NaN</td>\n",
       "      <td>4455765</td>\n",
       "      <td>Sedan</td>\n",
       "      <td>Sedan</td>\n",
       "      <td>NaN</td>\n",
       "      <td>NaN</td>\n",
       "      <td>NaN</td>\n",
       "    </tr>\n",
       "    <tr>\n",
       "      <th>1</th>\n",
       "      <td>03/26/2022</td>\n",
       "      <td>11:45</td>\n",
       "      <td>NaN</td>\n",
       "      <td>NaN</td>\n",
       "      <td>NaN</td>\n",
       "      <td>NaN</td>\n",
       "      <td>NaN</td>\n",
       "      <td>QUEENSBORO BRIDGE UPPER</td>\n",
       "      <td>NaN</td>\n",
       "      <td>NaN</td>\n",
       "      <td>...</td>\n",
       "      <td>NaN</td>\n",
       "      <td>NaN</td>\n",
       "      <td>NaN</td>\n",
       "      <td>NaN</td>\n",
       "      <td>4513547</td>\n",
       "      <td>Sedan</td>\n",
       "      <td>NaN</td>\n",
       "      <td>NaN</td>\n",
       "      <td>NaN</td>\n",
       "      <td>NaN</td>\n",
       "    </tr>\n",
       "    <tr>\n",
       "      <th>2</th>\n",
       "      <td>06/29/2022</td>\n",
       "      <td>6:55</td>\n",
       "      <td>NaN</td>\n",
       "      <td>NaN</td>\n",
       "      <td>NaN</td>\n",
       "      <td>NaN</td>\n",
       "      <td>NaN</td>\n",
       "      <td>THROGS NECK BRIDGE</td>\n",
       "      <td>NaN</td>\n",
       "      <td>NaN</td>\n",
       "      <td>...</td>\n",
       "      <td>Unspecified</td>\n",
       "      <td>NaN</td>\n",
       "      <td>NaN</td>\n",
       "      <td>NaN</td>\n",
       "      <td>4541903</td>\n",
       "      <td>Sedan</td>\n",
       "      <td>Pick-up Truck</td>\n",
       "      <td>NaN</td>\n",
       "      <td>NaN</td>\n",
       "      <td>NaN</td>\n",
       "    </tr>\n",
       "    <tr>\n",
       "      <th>3</th>\n",
       "      <td>09/11/2021</td>\n",
       "      <td>9:35</td>\n",
       "      <td>BROOKLYN</td>\n",
       "      <td>11208</td>\n",
       "      <td>40.667202</td>\n",
       "      <td>-73.866500</td>\n",
       "      <td>(40.667202, -73.8665)</td>\n",
       "      <td>NaN</td>\n",
       "      <td>NaN</td>\n",
       "      <td>1211      LORING AVENUE</td>\n",
       "      <td>...</td>\n",
       "      <td>NaN</td>\n",
       "      <td>NaN</td>\n",
       "      <td>NaN</td>\n",
       "      <td>NaN</td>\n",
       "      <td>4456314</td>\n",
       "      <td>Sedan</td>\n",
       "      <td>NaN</td>\n",
       "      <td>NaN</td>\n",
       "      <td>NaN</td>\n",
       "      <td>NaN</td>\n",
       "    </tr>\n",
       "    <tr>\n",
       "      <th>4</th>\n",
       "      <td>12/14/2021</td>\n",
       "      <td>8:13</td>\n",
       "      <td>BROOKLYN</td>\n",
       "      <td>11233</td>\n",
       "      <td>40.683304</td>\n",
       "      <td>-73.917274</td>\n",
       "      <td>(40.683304, -73.917274)</td>\n",
       "      <td>SARATOGA AVENUE</td>\n",
       "      <td>DECATUR STREET</td>\n",
       "      <td>NaN</td>\n",
       "      <td>...</td>\n",
       "      <td>NaN</td>\n",
       "      <td>NaN</td>\n",
       "      <td>NaN</td>\n",
       "      <td>NaN</td>\n",
       "      <td>4486609</td>\n",
       "      <td>NaN</td>\n",
       "      <td>NaN</td>\n",
       "      <td>NaN</td>\n",
       "      <td>NaN</td>\n",
       "      <td>NaN</td>\n",
       "    </tr>\n",
       "  </tbody>\n",
       "</table>\n",
       "<p>5 rows × 29 columns</p>\n",
       "</div>"
      ],
      "text/plain": [
       "   CRASH DATE CRASH TIME   BOROUGH ZIP CODE   LATITUDE  LONGITUDE  \\\n",
       "0  09/11/2021       2:39       NaN      NaN        NaN        NaN   \n",
       "1  03/26/2022      11:45       NaN      NaN        NaN        NaN   \n",
       "2  06/29/2022       6:55       NaN      NaN        NaN        NaN   \n",
       "3  09/11/2021       9:35  BROOKLYN    11208  40.667202 -73.866500   \n",
       "4  12/14/2021       8:13  BROOKLYN    11233  40.683304 -73.917274   \n",
       "\n",
       "                  LOCATION           ON STREET NAME CROSS STREET NAME  \\\n",
       "0                      NaN    WHITESTONE EXPRESSWAY         20 AVENUE   \n",
       "1                      NaN  QUEENSBORO BRIDGE UPPER               NaN   \n",
       "2                      NaN       THROGS NECK BRIDGE               NaN   \n",
       "3    (40.667202, -73.8665)                      NaN               NaN   \n",
       "4  (40.683304, -73.917274)          SARATOGA AVENUE    DECATUR STREET   \n",
       "\n",
       "           OFF STREET NAME  ...  CONTRIBUTING FACTOR VEHICLE 2  \\\n",
       "0                      NaN  ...                    Unspecified   \n",
       "1                      NaN  ...                            NaN   \n",
       "2                      NaN  ...                    Unspecified   \n",
       "3  1211      LORING AVENUE  ...                            NaN   \n",
       "4                      NaN  ...                            NaN   \n",
       "\n",
       "   CONTRIBUTING FACTOR VEHICLE 3  CONTRIBUTING FACTOR VEHICLE 4  \\\n",
       "0                            NaN                            NaN   \n",
       "1                            NaN                            NaN   \n",
       "2                            NaN                            NaN   \n",
       "3                            NaN                            NaN   \n",
       "4                            NaN                            NaN   \n",
       "\n",
       "   CONTRIBUTING FACTOR VEHICLE 5  COLLISION_ID  VEHICLE TYPE CODE 1  \\\n",
       "0                            NaN       4455765                Sedan   \n",
       "1                            NaN       4513547                Sedan   \n",
       "2                            NaN       4541903                Sedan   \n",
       "3                            NaN       4456314                Sedan   \n",
       "4                            NaN       4486609                  NaN   \n",
       "\n",
       "   VEHICLE TYPE CODE 2  VEHICLE TYPE CODE 3 VEHICLE TYPE CODE 4  \\\n",
       "0                Sedan                  NaN                 NaN   \n",
       "1                  NaN                  NaN                 NaN   \n",
       "2        Pick-up Truck                  NaN                 NaN   \n",
       "3                  NaN                  NaN                 NaN   \n",
       "4                  NaN                  NaN                 NaN   \n",
       "\n",
       "  VEHICLE TYPE CODE 5  \n",
       "0                 NaN  \n",
       "1                 NaN  \n",
       "2                 NaN  \n",
       "3                 NaN  \n",
       "4                 NaN  \n",
       "\n",
       "[5 rows x 29 columns]"
      ]
     },
     "execution_count": 29,
     "metadata": {},
     "output_type": "execute_result"
    }
   ],
   "source": [
    "# Display the first few rows of crashes dataset\n",
    "crashes.head()"
   ]
  },
  {
   "cell_type": "code",
   "execution_count": 30,
   "id": "f889d0df",
   "metadata": {},
   "outputs": [
    {
     "name": "stdout",
     "output_type": "stream",
     "text": [
      "<class 'pandas.core.frame.DataFrame'>\n",
      "RangeIndex: 2037301 entries, 0 to 2037300\n",
      "Data columns (total 29 columns):\n",
      " #   Column                         Dtype  \n",
      "---  ------                         -----  \n",
      " 0   CRASH DATE                     object \n",
      " 1   CRASH TIME                     object \n",
      " 2   BOROUGH                        object \n",
      " 3   ZIP CODE                       object \n",
      " 4   LATITUDE                       float64\n",
      " 5   LONGITUDE                      float64\n",
      " 6   LOCATION                       object \n",
      " 7   ON STREET NAME                 object \n",
      " 8   CROSS STREET NAME              object \n",
      " 9   OFF STREET NAME                object \n",
      " 10  NUMBER OF PERSONS INJURED      float64\n",
      " 11  NUMBER OF PERSONS KILLED       float64\n",
      " 12  NUMBER OF PEDESTRIANS INJURED  int64  \n",
      " 13  NUMBER OF PEDESTRIANS KILLED   int64  \n",
      " 14  NUMBER OF CYCLIST INJURED      int64  \n",
      " 15  NUMBER OF CYCLIST KILLED       int64  \n",
      " 16  NUMBER OF MOTORIST INJURED     int64  \n",
      " 17  NUMBER OF MOTORIST KILLED      int64  \n",
      " 18  CONTRIBUTING FACTOR VEHICLE 1  object \n",
      " 19  CONTRIBUTING FACTOR VEHICLE 2  object \n",
      " 20  CONTRIBUTING FACTOR VEHICLE 3  object \n",
      " 21  CONTRIBUTING FACTOR VEHICLE 4  object \n",
      " 22  CONTRIBUTING FACTOR VEHICLE 5  object \n",
      " 23  COLLISION_ID                   int64  \n",
      " 24  VEHICLE TYPE CODE 1            object \n",
      " 25  VEHICLE TYPE CODE 2            object \n",
      " 26  VEHICLE TYPE CODE 3            object \n",
      " 27  VEHICLE TYPE CODE 4            object \n",
      " 28  VEHICLE TYPE CODE 5            object \n",
      "dtypes: float64(4), int64(7), object(18)\n",
      "memory usage: 450.8+ MB\n"
     ]
    }
   ],
   "source": [
    "# Get information about crashes dataset\n",
    "crashes.info()"
   ]
  },
  {
   "cell_type": "code",
   "execution_count": 31,
   "id": "30f11942",
   "metadata": {},
   "outputs": [
    {
     "data": {
      "text/html": [
       "<div>\n",
       "<style scoped>\n",
       "    .dataframe tbody tr th:only-of-type {\n",
       "        vertical-align: middle;\n",
       "    }\n",
       "\n",
       "    .dataframe tbody tr th {\n",
       "        vertical-align: top;\n",
       "    }\n",
       "\n",
       "    .dataframe thead th {\n",
       "        text-align: right;\n",
       "    }\n",
       "</style>\n",
       "<table border=\"1\" class=\"dataframe\">\n",
       "  <thead>\n",
       "    <tr style=\"text-align: right;\">\n",
       "      <th></th>\n",
       "      <th>LATITUDE</th>\n",
       "      <th>LONGITUDE</th>\n",
       "      <th>NUMBER OF PERSONS INJURED</th>\n",
       "      <th>NUMBER OF PERSONS KILLED</th>\n",
       "      <th>NUMBER OF PEDESTRIANS INJURED</th>\n",
       "      <th>NUMBER OF PEDESTRIANS KILLED</th>\n",
       "      <th>NUMBER OF CYCLIST INJURED</th>\n",
       "      <th>NUMBER OF CYCLIST KILLED</th>\n",
       "      <th>NUMBER OF MOTORIST INJURED</th>\n",
       "      <th>NUMBER OF MOTORIST KILLED</th>\n",
       "      <th>COLLISION_ID</th>\n",
       "    </tr>\n",
       "  </thead>\n",
       "  <tbody>\n",
       "    <tr>\n",
       "      <th>count</th>\n",
       "      <td>1.806168e+06</td>\n",
       "      <td>1.806168e+06</td>\n",
       "      <td>2.037283e+06</td>\n",
       "      <td>2.037270e+06</td>\n",
       "      <td>2.037301e+06</td>\n",
       "      <td>2.037301e+06</td>\n",
       "      <td>2.037301e+06</td>\n",
       "      <td>2.037301e+06</td>\n",
       "      <td>2.037301e+06</td>\n",
       "      <td>2.037301e+06</td>\n",
       "      <td>2.037301e+06</td>\n",
       "    </tr>\n",
       "    <tr>\n",
       "      <th>mean</th>\n",
       "      <td>4.062775e+01</td>\n",
       "      <td>-7.375226e+01</td>\n",
       "      <td>3.050769e-01</td>\n",
       "      <td>1.459797e-03</td>\n",
       "      <td>5.552150e-02</td>\n",
       "      <td>7.274330e-04</td>\n",
       "      <td>2.648700e-02</td>\n",
       "      <td>1.128945e-04</td>\n",
       "      <td>2.196916e-01</td>\n",
       "      <td>5.983406e-04</td>\n",
       "      <td>3.130933e+06</td>\n",
       "    </tr>\n",
       "    <tr>\n",
       "      <th>std</th>\n",
       "      <td>1.980740e+00</td>\n",
       "      <td>3.726007e+00</td>\n",
       "      <td>6.959204e-01</td>\n",
       "      <td>4.024485e-02</td>\n",
       "      <td>2.420399e-01</td>\n",
       "      <td>2.744831e-02</td>\n",
       "      <td>1.625532e-01</td>\n",
       "      <td>1.067068e-02</td>\n",
       "      <td>6.570031e-01</td>\n",
       "      <td>2.666229e-02</td>\n",
       "      <td>1.504344e+06</td>\n",
       "    </tr>\n",
       "    <tr>\n",
       "      <th>min</th>\n",
       "      <td>0.000000e+00</td>\n",
       "      <td>-2.013600e+02</td>\n",
       "      <td>0.000000e+00</td>\n",
       "      <td>0.000000e+00</td>\n",
       "      <td>0.000000e+00</td>\n",
       "      <td>0.000000e+00</td>\n",
       "      <td>0.000000e+00</td>\n",
       "      <td>0.000000e+00</td>\n",
       "      <td>0.000000e+00</td>\n",
       "      <td>0.000000e+00</td>\n",
       "      <td>2.200000e+01</td>\n",
       "    </tr>\n",
       "    <tr>\n",
       "      <th>25%</th>\n",
       "      <td>4.066790e+01</td>\n",
       "      <td>-7.397492e+01</td>\n",
       "      <td>0.000000e+00</td>\n",
       "      <td>0.000000e+00</td>\n",
       "      <td>0.000000e+00</td>\n",
       "      <td>0.000000e+00</td>\n",
       "      <td>0.000000e+00</td>\n",
       "      <td>0.000000e+00</td>\n",
       "      <td>0.000000e+00</td>\n",
       "      <td>0.000000e+00</td>\n",
       "      <td>3.145445e+06</td>\n",
       "    </tr>\n",
       "    <tr>\n",
       "      <th>50%</th>\n",
       "      <td>4.072096e+01</td>\n",
       "      <td>-7.392731e+01</td>\n",
       "      <td>0.000000e+00</td>\n",
       "      <td>0.000000e+00</td>\n",
       "      <td>0.000000e+00</td>\n",
       "      <td>0.000000e+00</td>\n",
       "      <td>0.000000e+00</td>\n",
       "      <td>0.000000e+00</td>\n",
       "      <td>0.000000e+00</td>\n",
       "      <td>0.000000e+00</td>\n",
       "      <td>3.654881e+06</td>\n",
       "    </tr>\n",
       "    <tr>\n",
       "      <th>75%</th>\n",
       "      <td>4.076960e+01</td>\n",
       "      <td>-7.386671e+01</td>\n",
       "      <td>0.000000e+00</td>\n",
       "      <td>0.000000e+00</td>\n",
       "      <td>0.000000e+00</td>\n",
       "      <td>0.000000e+00</td>\n",
       "      <td>0.000000e+00</td>\n",
       "      <td>0.000000e+00</td>\n",
       "      <td>0.000000e+00</td>\n",
       "      <td>0.000000e+00</td>\n",
       "      <td>4.164452e+06</td>\n",
       "    </tr>\n",
       "    <tr>\n",
       "      <th>max</th>\n",
       "      <td>4.334444e+01</td>\n",
       "      <td>0.000000e+00</td>\n",
       "      <td>4.300000e+01</td>\n",
       "      <td>8.000000e+00</td>\n",
       "      <td>2.700000e+01</td>\n",
       "      <td>6.000000e+00</td>\n",
       "      <td>4.000000e+00</td>\n",
       "      <td>2.000000e+00</td>\n",
       "      <td>4.300000e+01</td>\n",
       "      <td>5.000000e+00</td>\n",
       "      <td>4.674117e+06</td>\n",
       "    </tr>\n",
       "  </tbody>\n",
       "</table>\n",
       "</div>"
      ],
      "text/plain": [
       "           LATITUDE     LONGITUDE  NUMBER OF PERSONS INJURED  \\\n",
       "count  1.806168e+06  1.806168e+06               2.037283e+06   \n",
       "mean   4.062775e+01 -7.375226e+01               3.050769e-01   \n",
       "std    1.980740e+00  3.726007e+00               6.959204e-01   \n",
       "min    0.000000e+00 -2.013600e+02               0.000000e+00   \n",
       "25%    4.066790e+01 -7.397492e+01               0.000000e+00   \n",
       "50%    4.072096e+01 -7.392731e+01               0.000000e+00   \n",
       "75%    4.076960e+01 -7.386671e+01               0.000000e+00   \n",
       "max    4.334444e+01  0.000000e+00               4.300000e+01   \n",
       "\n",
       "       NUMBER OF PERSONS KILLED  NUMBER OF PEDESTRIANS INJURED  \\\n",
       "count              2.037270e+06                   2.037301e+06   \n",
       "mean               1.459797e-03                   5.552150e-02   \n",
       "std                4.024485e-02                   2.420399e-01   \n",
       "min                0.000000e+00                   0.000000e+00   \n",
       "25%                0.000000e+00                   0.000000e+00   \n",
       "50%                0.000000e+00                   0.000000e+00   \n",
       "75%                0.000000e+00                   0.000000e+00   \n",
       "max                8.000000e+00                   2.700000e+01   \n",
       "\n",
       "       NUMBER OF PEDESTRIANS KILLED  NUMBER OF CYCLIST INJURED  \\\n",
       "count                  2.037301e+06               2.037301e+06   \n",
       "mean                   7.274330e-04               2.648700e-02   \n",
       "std                    2.744831e-02               1.625532e-01   \n",
       "min                    0.000000e+00               0.000000e+00   \n",
       "25%                    0.000000e+00               0.000000e+00   \n",
       "50%                    0.000000e+00               0.000000e+00   \n",
       "75%                    0.000000e+00               0.000000e+00   \n",
       "max                    6.000000e+00               4.000000e+00   \n",
       "\n",
       "       NUMBER OF CYCLIST KILLED  NUMBER OF MOTORIST INJURED  \\\n",
       "count              2.037301e+06                2.037301e+06   \n",
       "mean               1.128945e-04                2.196916e-01   \n",
       "std                1.067068e-02                6.570031e-01   \n",
       "min                0.000000e+00                0.000000e+00   \n",
       "25%                0.000000e+00                0.000000e+00   \n",
       "50%                0.000000e+00                0.000000e+00   \n",
       "75%                0.000000e+00                0.000000e+00   \n",
       "max                2.000000e+00                4.300000e+01   \n",
       "\n",
       "       NUMBER OF MOTORIST KILLED  COLLISION_ID  \n",
       "count               2.037301e+06  2.037301e+06  \n",
       "mean                5.983406e-04  3.130933e+06  \n",
       "std                 2.666229e-02  1.504344e+06  \n",
       "min                 0.000000e+00  2.200000e+01  \n",
       "25%                 0.000000e+00  3.145445e+06  \n",
       "50%                 0.000000e+00  3.654881e+06  \n",
       "75%                 0.000000e+00  4.164452e+06  \n",
       "max                 5.000000e+00  4.674117e+06  "
      ]
     },
     "execution_count": 31,
     "metadata": {},
     "output_type": "execute_result"
    }
   ],
   "source": [
    "# Get summary statistics for crashes dataset\n",
    "crashes.describe()"
   ]
  },
  {
   "cell_type": "markdown",
   "id": "a3da1708",
   "metadata": {},
   "source": [
    "For the Crashes Dataset:\n",
    "1. Mising Values: There are many missing values in columns like `BOROUGH,` `ZIP CODE,` AND `LATITUDE/LONGITUDE.` We need to decide whether to drop them or impute missing values. \n",
    "2. Data Types: The `CRASH DATE` and `CRASH TIME` columns should be converted to datetime data types.\n",
    "3. Duplicated Rows: Check for and remove duplicated rows if they exist.\n",
    "4. Column Selection: Select a subset of columns relevant for our analysis."
   ]
  },
  {
   "cell_type": "markdown",
   "id": "a411ecc6",
   "metadata": {},
   "source": [
    "### Data Cleaning"
   ]
  },
  {
   "cell_type": "code",
   "execution_count": 32,
   "id": "37b2b98c",
   "metadata": {},
   "outputs": [
    {
     "data": {
      "text/html": [
       "<div>\n",
       "<style scoped>\n",
       "    .dataframe tbody tr th:only-of-type {\n",
       "        vertical-align: middle;\n",
       "    }\n",
       "\n",
       "    .dataframe tbody tr th {\n",
       "        vertical-align: top;\n",
       "    }\n",
       "\n",
       "    .dataframe thead th {\n",
       "        text-align: right;\n",
       "    }\n",
       "</style>\n",
       "<table border=\"1\" class=\"dataframe\">\n",
       "  <thead>\n",
       "    <tr style=\"text-align: right;\">\n",
       "      <th></th>\n",
       "      <th>COLLISION_ID</th>\n",
       "      <th>CRASH DATE</th>\n",
       "      <th>CRASH TIME</th>\n",
       "      <th>BOROUGH</th>\n",
       "      <th>CONTRIBUTING FACTOR VEHICLE 1</th>\n",
       "      <th>NUMBER OF PERSONS INJURED</th>\n",
       "      <th>NUMBER OF PERSONS KILLED</th>\n",
       "      <th>NUMBER OF CYCLIST INJURED</th>\n",
       "      <th>NUMBER OF CYCLIST KILLED</th>\n",
       "      <th>NUMBER OF PEDESTRIANS INJURED</th>\n",
       "      <th>NUMBER OF PEDESTRIANS KILLED</th>\n",
       "      <th>NUMBER OF MOTORIST INJURED</th>\n",
       "      <th>NUMBER OF MOTORIST KILLED</th>\n",
       "    </tr>\n",
       "  </thead>\n",
       "  <tbody>\n",
       "    <tr>\n",
       "      <th>0</th>\n",
       "      <td>4455765</td>\n",
       "      <td>09/11/2021</td>\n",
       "      <td>2:39</td>\n",
       "      <td>NaN</td>\n",
       "      <td>Aggressive Driving/Road Rage</td>\n",
       "      <td>2.0</td>\n",
       "      <td>0.0</td>\n",
       "      <td>0</td>\n",
       "      <td>0</td>\n",
       "      <td>0</td>\n",
       "      <td>0</td>\n",
       "      <td>2</td>\n",
       "      <td>0</td>\n",
       "    </tr>\n",
       "    <tr>\n",
       "      <th>1</th>\n",
       "      <td>4513547</td>\n",
       "      <td>03/26/2022</td>\n",
       "      <td>11:45</td>\n",
       "      <td>NaN</td>\n",
       "      <td>Pavement Slippery</td>\n",
       "      <td>1.0</td>\n",
       "      <td>0.0</td>\n",
       "      <td>0</td>\n",
       "      <td>0</td>\n",
       "      <td>0</td>\n",
       "      <td>0</td>\n",
       "      <td>1</td>\n",
       "      <td>0</td>\n",
       "    </tr>\n",
       "    <tr>\n",
       "      <th>2</th>\n",
       "      <td>4541903</td>\n",
       "      <td>06/29/2022</td>\n",
       "      <td>6:55</td>\n",
       "      <td>NaN</td>\n",
       "      <td>Following Too Closely</td>\n",
       "      <td>0.0</td>\n",
       "      <td>0.0</td>\n",
       "      <td>0</td>\n",
       "      <td>0</td>\n",
       "      <td>0</td>\n",
       "      <td>0</td>\n",
       "      <td>0</td>\n",
       "      <td>0</td>\n",
       "    </tr>\n",
       "    <tr>\n",
       "      <th>3</th>\n",
       "      <td>4456314</td>\n",
       "      <td>09/11/2021</td>\n",
       "      <td>9:35</td>\n",
       "      <td>BROOKLYN</td>\n",
       "      <td>Unspecified</td>\n",
       "      <td>0.0</td>\n",
       "      <td>0.0</td>\n",
       "      <td>0</td>\n",
       "      <td>0</td>\n",
       "      <td>0</td>\n",
       "      <td>0</td>\n",
       "      <td>0</td>\n",
       "      <td>0</td>\n",
       "    </tr>\n",
       "    <tr>\n",
       "      <th>4</th>\n",
       "      <td>4486609</td>\n",
       "      <td>12/14/2021</td>\n",
       "      <td>8:13</td>\n",
       "      <td>BROOKLYN</td>\n",
       "      <td>NaN</td>\n",
       "      <td>0.0</td>\n",
       "      <td>0.0</td>\n",
       "      <td>0</td>\n",
       "      <td>0</td>\n",
       "      <td>0</td>\n",
       "      <td>0</td>\n",
       "      <td>0</td>\n",
       "      <td>0</td>\n",
       "    </tr>\n",
       "  </tbody>\n",
       "</table>\n",
       "</div>"
      ],
      "text/plain": [
       "   COLLISION_ID  CRASH DATE CRASH TIME   BOROUGH  \\\n",
       "0       4455765  09/11/2021       2:39       NaN   \n",
       "1       4513547  03/26/2022      11:45       NaN   \n",
       "2       4541903  06/29/2022       6:55       NaN   \n",
       "3       4456314  09/11/2021       9:35  BROOKLYN   \n",
       "4       4486609  12/14/2021       8:13  BROOKLYN   \n",
       "\n",
       "  CONTRIBUTING FACTOR VEHICLE 1  NUMBER OF PERSONS INJURED  \\\n",
       "0  Aggressive Driving/Road Rage                        2.0   \n",
       "1             Pavement Slippery                        1.0   \n",
       "2         Following Too Closely                        0.0   \n",
       "3                   Unspecified                        0.0   \n",
       "4                           NaN                        0.0   \n",
       "\n",
       "   NUMBER OF PERSONS KILLED  NUMBER OF CYCLIST INJURED  \\\n",
       "0                       0.0                          0   \n",
       "1                       0.0                          0   \n",
       "2                       0.0                          0   \n",
       "3                       0.0                          0   \n",
       "4                       0.0                          0   \n",
       "\n",
       "   NUMBER OF CYCLIST KILLED  NUMBER OF PEDESTRIANS INJURED  \\\n",
       "0                         0                              0   \n",
       "1                         0                              0   \n",
       "2                         0                              0   \n",
       "3                         0                              0   \n",
       "4                         0                              0   \n",
       "\n",
       "   NUMBER OF PEDESTRIANS KILLED  NUMBER OF MOTORIST INJURED  \\\n",
       "0                             0                           2   \n",
       "1                             0                           1   \n",
       "2                             0                           0   \n",
       "3                             0                           0   \n",
       "4                             0                           0   \n",
       "\n",
       "   NUMBER OF MOTORIST KILLED  \n",
       "0                          0  \n",
       "1                          0  \n",
       "2                          0  \n",
       "3                          0  \n",
       "4                          0  "
      ]
     },
     "execution_count": 32,
     "metadata": {},
     "output_type": "execute_result"
    }
   ],
   "source": [
    "# List of columns to keep\n",
    "columns_to_keep = ['COLLISION_ID', 'CRASH DATE', 'CRASH TIME', 'BOROUGH', \n",
    "                   'CONTRIBUTING FACTOR VEHICLE 1', 'NUMBER OF PERSONS INJURED', \n",
    "                   'NUMBER OF PERSONS KILLED', 'NUMBER OF CYCLIST INJURED', \n",
    "                   'NUMBER OF CYCLIST KILLED', 'NUMBER OF PEDESTRIANS INJURED', \n",
    "                   'NUMBER OF PEDESTRIANS KILLED', 'NUMBER OF MOTORIST INJURED', \n",
    "                   'NUMBER OF MOTORIST KILLED']\n",
    "\n",
    "# Dropping columns that are not in the columns_to_keep list\n",
    "crashes = crashes[columns_to_keep]\n",
    "\n",
    "# Display the first few rows\n",
    "crashes.head()"
   ]
  },
  {
   "cell_type": "code",
   "execution_count": 33,
   "id": "8765b154",
   "metadata": {},
   "outputs": [
    {
     "data": {
      "text/plain": [
       "COLLISION_ID                              int64\n",
       "CRASH DATE                       datetime64[ns]\n",
       "CRASH TIME                               object\n",
       "BOROUGH                                  object\n",
       "CONTRIBUTING FACTOR VEHICLE 1            object\n",
       "NUMBER OF PERSONS INJURED               float64\n",
       "NUMBER OF PERSONS KILLED                float64\n",
       "NUMBER OF CYCLIST INJURED                 int64\n",
       "NUMBER OF CYCLIST KILLED                  int64\n",
       "NUMBER OF PEDESTRIANS INJURED             int64\n",
       "NUMBER OF PEDESTRIANS KILLED              int64\n",
       "NUMBER OF MOTORIST INJURED                int64\n",
       "NUMBER OF MOTORIST KILLED                 int64\n",
       "dtype: object"
      ]
     },
     "execution_count": 33,
     "metadata": {},
     "output_type": "execute_result"
    }
   ],
   "source": [
    "# Convert 'CRASH DATE' and 'CRASH TIME' columns to datetime data types in crashes dataset\n",
    "crashes['CRASH DATE'] = pd.to_datetime(crashes['CRASH DATE'])\n",
    "crashes['CRASH TIME'] = pd.to_datetime(crashes['CRASH TIME'], format='%H:%M').dt.time\n",
    "\n",
    "# Display the data types\n",
    "crashes.dtypes"
   ]
  },
  {
   "cell_type": "code",
   "execution_count": 34,
   "id": "c219725f",
   "metadata": {},
   "outputs": [
    {
     "data": {
      "text/plain": [
       "COLLISION_ID                          0\n",
       "CRASH DATE                            0\n",
       "CRASH TIME                            0\n",
       "BOROUGH                          633806\n",
       "CONTRIBUTING FACTOR VEHICLE 1      6482\n",
       "NUMBER OF PERSONS INJURED            18\n",
       "NUMBER OF PERSONS KILLED             31\n",
       "NUMBER OF CYCLIST INJURED             0\n",
       "NUMBER OF CYCLIST KILLED              0\n",
       "NUMBER OF PEDESTRIANS INJURED         0\n",
       "NUMBER OF PEDESTRIANS KILLED          0\n",
       "NUMBER OF MOTORIST INJURED            0\n",
       "NUMBER OF MOTORIST KILLED             0\n",
       "dtype: int64"
      ]
     },
     "execution_count": 34,
     "metadata": {},
     "output_type": "execute_result"
    }
   ],
   "source": [
    "# Check the frequency of null values in each column of the crashes dataset\n",
    "crashes.isnull().sum()"
   ]
  },
  {
   "cell_type": "code",
   "execution_count": 35,
   "id": "aa4a78ab",
   "metadata": {},
   "outputs": [
    {
     "data": {
      "text/plain": [
       "801551     4\n",
       "900819     3\n",
       "957509     3\n",
       "668759     3\n",
       "728791     3\n",
       "          ..\n",
       "1034087    0\n",
       "265046     0\n",
       "1034085    0\n",
       "1034084    0\n",
       "1255234    0\n",
       "Length: 2037301, dtype: int64"
      ]
     },
     "execution_count": 35,
     "metadata": {},
     "output_type": "execute_result"
    }
   ],
   "source": [
    "#count the frequency of missing values in each row (i.e. how many columns are empty)\n",
    "crashes.isnull().sum(axis=1).sort_values(ascending = False) "
   ]
  },
  {
   "cell_type": "code",
   "execution_count": 36,
   "id": "fa745db2",
   "metadata": {},
   "outputs": [],
   "source": [
    "# Drop rows where 'BOROUGH' is missing\n",
    "crashes.dropna(subset=['BOROUGH'], inplace=True)\n",
    "\n",
    "# Fill missing values in 'CONTRIBUTING FACTOR VEHICLE 1' with its mode\n",
    "mode_contributing_factor = crashes['CONTRIBUTING FACTOR VEHICLE 1'].mode()[0]\n",
    "crashes['CONTRIBUTING FACTOR VEHICLE 1'].fillna(mode_contributing_factor, inplace=True)\n",
    "\n",
    "# Fill missing values in 'NUMBER OF PERSONS INJURED' and 'NUMBER OF PERSONS KILLED' with their medians\n",
    "median_injured = crashes['NUMBER OF PERSONS INJURED'].median()\n",
    "median_killed = crashes['NUMBER OF PERSONS KILLED'].median()\n",
    "crashes['NUMBER OF PERSONS INJURED'].fillna(median_injured, inplace=True)\n",
    "crashes['NUMBER OF PERSONS KILLED'].fillna(median_killed, inplace=True)"
   ]
  },
  {
   "cell_type": "code",
   "execution_count": 37,
   "id": "23647fa1",
   "metadata": {},
   "outputs": [
    {
     "data": {
      "text/plain": [
       "COLLISION_ID                     0\n",
       "CRASH DATE                       0\n",
       "CRASH TIME                       0\n",
       "BOROUGH                          0\n",
       "CONTRIBUTING FACTOR VEHICLE 1    0\n",
       "NUMBER OF PERSONS INJURED        0\n",
       "NUMBER OF PERSONS KILLED         0\n",
       "NUMBER OF CYCLIST INJURED        0\n",
       "NUMBER OF CYCLIST KILLED         0\n",
       "NUMBER OF PEDESTRIANS INJURED    0\n",
       "NUMBER OF PEDESTRIANS KILLED     0\n",
       "NUMBER OF MOTORIST INJURED       0\n",
       "NUMBER OF MOTORIST KILLED        0\n",
       "dtype: int64"
      ]
     },
     "execution_count": 37,
     "metadata": {},
     "output_type": "execute_result"
    }
   ],
   "source": [
    "# Recheck the missing values\n",
    "crashes.isnull().sum()"
   ]
  },
  {
   "cell_type": "code",
   "execution_count": 38,
   "id": "138f818d",
   "metadata": {},
   "outputs": [],
   "source": [
    "# Remove duplicate rows from the crashes dataset\n",
    "crashes.drop_duplicates(inplace=True)"
   ]
  },
  {
   "cell_type": "markdown",
   "id": "804fd802",
   "metadata": {},
   "source": [
    "### Summarize and Visualize the Data"
   ]
  },
  {
   "cell_type": "markdown",
   "id": "b35db6cd",
   "metadata": {},
   "source": [
    "#### Visualization 1: Number of Fatalities and Injuries by Borough\n"
   ]
  },
  {
   "cell_type": "code",
   "execution_count": 39,
   "id": "1462ae7c",
   "metadata": {},
   "outputs": [
    {
     "data": {
      "image/png": "[encoded data removed]",
      "text/plain": [
       "<Figure size 640x480 with 1 Axes>"
      ]
     },
     "metadata": {},
     "output_type": "display_data"
    }
   ],
   "source": [
    "# Group the data by borough and calculate the total number of fatalities and injuries\n",
    "borough_data = crashes.groupby('BOROUGH')[['NUMBER OF PERSONS KILLED', 'NUMBER OF PERSONS INJURED']].sum()\n",
    "\n",
    "# Plot the data\n",
    "borough_data.plot(kind='bar')\n",
    "plt.title('Number of Fatalities and Injuries by Borough')\n",
    "plt.xlabel('Borough')\n",
    "plt.ylabel('Count')\n",
    "plt.legend([\"Fatalities\", \"Injuries\"])\n",
    "plt.show()"
   ]
  },
  {
   "cell_type": "markdown",
   "id": "e4b46c33",
   "metadata": {},
   "source": [
    "#### Visualization 2: Most Common Contributing Factor"
   ]
  },
  {
   "cell_type": "code",
   "execution_count": 40,
   "id": "57b81a95",
   "metadata": {},
   "outputs": [
    {
     "data": {
      "image/png": "[encoded data removed]",
      "text/plain": [
       "<Figure size 640x480 with 1 Axes>"
      ]
     },
     "metadata": {},
     "output_type": "display_data"
    },
    {
     "name": "stdout",
     "output_type": "stream",
     "text": [
      "The most common contributing factor is: Unspecified\n"
     ]
    }
   ],
   "source": [
    "# Calculate the most common contributing factor\n",
    "most_common_factor = crashes['CONTRIBUTING FACTOR VEHICLE 1'].mode().values[0]\n",
    "\n",
    "# Count the occurrences of each contributing factor\n",
    "contributing_factors = crashes['CONTRIBUTING FACTOR VEHICLE 1'].value_counts()\n",
    "\n",
    "# Plot the top contributing factors\n",
    "top_factors = contributing_factors.head(10)\n",
    "top_factors.plot(kind='bar')\n",
    "plt.title('Top 10 Contributing Factors in Crashes')\n",
    "plt.xlabel('Contributing Factor')\n",
    "plt.ylabel('Count')\n",
    "plt.tight_layout()  \n",
    "plt.show()\n",
    "\n",
    "print(f\"The most common contributing factor is: {most_common_factor}\")"
   ]
  },
  {
   "cell_type": "markdown",
   "id": "59cac194",
   "metadata": {},
   "source": [
    "#### Visualization 3: Number of Crashes Per Year"
   ]
  },
  {
   "cell_type": "code",
   "execution_count": 41,
   "id": "59c66beb",
   "metadata": {},
   "outputs": [
    {
     "data": {
      "image/png": "[encoded data removed]",
      "text/plain": [
       "<Figure size 1200x600 with 1 Axes>"
      ]
     },
     "metadata": {},
     "output_type": "display_data"
    }
   ],
   "source": [
    "# Create a 'Year' column from 'CRASH DATE'\n",
    "crashes['Year'] = crashes['CRASH DATE'].dt.year\n",
    "\n",
    "# Group by 'Year' and count the number of crashes\n",
    "crashes_per_year = crashes.groupby('Year').size()\n",
    "\n",
    "# Plotting\n",
    "plt.figure(figsize=(12, 6))\n",
    "crashes_per_year.plot(kind='line', marker='o', linestyle='-', color='green')\n",
    "plt.xticks(range(2012, 2024))\n",
    "plt.title('Number of Crashes Per Year in New York City')\n",
    "plt.xlabel('Year')\n",
    "plt.ylabel('Crashes')\n",
    "plt.grid(True)\n",
    "plt.show()"
   ]
  },
  {
   "cell_type": "markdown",
   "id": "4afa5b91",
   "metadata": {},
   "source": [
    "## Model Selection, Training and Evaluation"
   ]
  },
  {
   "cell_type": "markdown",
   "id": "1783a17c",
   "metadata": {},
   "source": [
    "### Predicting Injury and Fatality Outcomes"
   ]
  },
  {
   "cell_type": "markdown",
   "id": "2727f991",
   "metadata": {},
   "source": [
    "#### Preprocessing the Data"
   ]
  },
  {
   "cell_type": "code",
   "execution_count": 42,
   "id": "d53e2741",
   "metadata": {},
   "outputs": [],
   "source": [
    "# Extracting features from 'CRASH DATE'\n",
    "crashes['DayOfWeek'] = pd.to_datetime(crashes['CRASH DATE']).dt.dayofweek\n",
    "crashes['Month'] = pd.to_datetime(crashes['CRASH DATE']).dt.month"
   ]
  },
  {
   "cell_type": "code",
   "execution_count": 43,
   "id": "47c27230",
   "metadata": {},
   "outputs": [],
   "source": [
    "# Encoding categorical variables\n",
    "encoder = OneHotEncoder()\n",
    "encoded_borough = encoder.fit_transform(crashes[['BOROUGH']])\n",
    "encoded_factors = encoder.fit_transform(crashes[['CONTRIBUTING FACTOR VEHICLE 1']])"
   ]
  },
  {
   "cell_type": "code",
   "execution_count": 44,
   "id": "2b198b0b",
   "metadata": {},
   "outputs": [],
   "source": [
    "# Define features and target variable for predicting injuries and fatalities\n",
    "numerical_features = crashes[['DayOfWeek', 'Month']].values\n",
    "X = np.concatenate([encoded_borough.toarray(), encoded_factors.toarray(), numerical_features], axis=1)\n",
    "\n",
    "y_injury = crashes['NUMBER OF PERSONS INJURED']  # Target variable for injury prediction\n",
    "y_killed = crashes['NUMBER OF PERSONS KILLED']   # Target variable for fatality prediction"
   ]
  },
  {
   "cell_type": "code",
   "execution_count": 45,
   "id": "bf8cef72",
   "metadata": {},
   "outputs": [],
   "source": [
    "# Splitting the data for injury and fatality prediction\n",
    "X_train_injury, X_test_injury, y_train_injury, y_test_injury = train_test_split(X, y_injury, test_size=0.3, random_state=7)\n",
    "X_train_killed, X_test_killed, y_train_killed, y_test_killed = train_test_split(X, y_killed, test_size=0.3, random_state=7)"
   ]
  },
  {
   "cell_type": "markdown",
   "id": "61b10111",
   "metadata": {},
   "source": [
    "#### Model Training and Hyper-parameter Tuning"
   ]
  },
  {
   "cell_type": "code",
   "execution_count": 46,
   "id": "bf647b44",
   "metadata": {},
   "outputs": [],
   "source": [
    "# Define parameters for the models\n",
    "dt_params = {'max_depth': [10, 20]}\n",
    "rf_params = {'n_estimators': [50, 100], 'max_depth': [5, 10]}\n",
    "knn_params = {'n_neighbors': [5, 7],}"
   ]
  },
  {
   "cell_type": "code",
   "execution_count": null,
   "id": "6b58becb",
   "metadata": {},
   "outputs": [],
   "source": [
    "# Subset size for training\n",
    "# subset_size = 10000  \n",
    "# X_train_injury_subset = X_train_injury[:subset_size]\n",
    "# y_train_injury_subset = y_train_injury[:subset_size]\n",
    "# X_train_killed_subset = X_train_killed[:subset_size]\n",
    "# y_train_killed_subset = y_train_killed[:subset_size]\n",
    "X_train_injury_subset = X_train_injury\n",
    "y_train_injury_subset = y_train_injury\n",
    "X_train_killed_subset = X_train_killed\n",
    "y_train_killed_subset = y_train_killed"
   ]
  },
  {
   "cell_type": "code",
   "execution_count": 48,
   "id": "134a0c65",
   "metadata": {},
   "outputs": [],
   "source": [
    "# Training models on injury prediction\n",
    "dt_injury = GridSearchCV(DecisionTreeRegressor(), dt_params, cv=5).fit(X_train_injury_subset, y_train_injury_subset)\n",
    "rf_injury = GridSearchCV(RandomForestRegressor(), rf_params, cv=5).fit(X_train_injury_subset, y_train_injury_subset)\n",
    "knn_injury = GridSearchCV(KNeighborsRegressor(), knn_params, cv=5).fit(X_train_injury_subset, y_train_injury_subset)"
   ]
  },
  {
   "cell_type": "code",
   "execution_count": 50,
   "id": "49721b0b",
   "metadata": {},
   "outputs": [],
   "source": [
    "# Training models on fatality prediction\n",
    "dt_killed = GridSearchCV(DecisionTreeRegressor(), dt_params, cv=5).fit(X_train_killed_subset, y_train_killed_subset)\n",
    "rf_killed = GridSearchCV(RandomForestRegressor(), rf_params, cv=5).fit(X_train_killed_subset, y_train_killed_subset)\n",
    "knn_killed = GridSearchCV(KNeighborsRegressor(), knn_params, cv=5).fit(X_train_killed_subset, y_train_killed_subset)"
   ]
  },
  {
   "cell_type": "code",
   "execution_count": 51,
   "id": "02175f18",
   "metadata": {},
   "outputs": [],
   "source": [
    "# Subset size for testing\n",
    "# test_subset_size = 5000  \n",
    "# X_test_injury_subset = X_test_injury[:test_subset_size]\n",
    "# y_test_injury_subset = y_test_injury[:test_subset_size]\n",
    "# X_test_killed_subset = X_test_killed[:test_subset_size]\n",
    "# y_test_killed_subset = y_test_killed[:test_subset_size]\n",
    "\n",
    "X_test_injury_subset = X_test_injury\n",
    "y_test_injury_subset = y_test_injury\n",
    "X_test_killed_subset = X_test_killed\n",
    "y_test_killed_subset = y_test_killed"
   ]
  },
  {
   "cell_type": "markdown",
   "id": "539879b8",
   "metadata": {},
   "source": [
    "#### Model Evaluation"
   ]
  },
  {
   "cell_type": "code",
   "execution_count": 52,
   "id": "ee1a0672",
   "metadata": {},
   "outputs": [
    {
     "name": "stdout",
     "output_type": "stream",
     "text": [
      "Evaluating Injury Prediction Models:\n",
      "Decision Tree - Mean Squared Error: 0.42873009531738765\n",
      "Random Forest - Mean Squared Error: 0.42840268554724764\n",
      "k-NN - Mean Squared Error: 0.47976402571982396\n"
     ]
    }
   ],
   "source": [
    "# Evaluating models on injury prediction\n",
    "print(\"Evaluating Injury Prediction Models:\")\n",
    "dt_injury_pred = dt_injury.predict(X_test_injury_subset)\n",
    "print(f\"Decision Tree - Mean Squared Error: {mean_squared_error(y_test_injury_subset, dt_injury_pred)}\")\n",
    "\n",
    "rf_injury_pred = rf_injury.predict(X_test_injury_subset)\n",
    "print(f\"Random Forest - Mean Squared Error: {mean_squared_error(y_test_injury_subset, rf_injury_pred)}\")\n",
    "\n",
    "knn_injury_pred = knn_injury.predict(X_test_injury_subset)\n",
    "print(f\"k-NN - Mean Squared Error: {mean_squared_error(y_test_injury_subset, knn_injury_pred)}\")"
   ]
  },
  {
   "cell_type": "code",
   "execution_count": 53,
   "id": "4edf282a",
   "metadata": {},
   "outputs": [
    {
     "name": "stdout",
     "output_type": "stream",
     "text": [
      "\n",
      "Evaluating Fatality Prediction Models:\n",
      "Decision Tree - Mean Squared Error: 0.0014109525229754406\n",
      "Random Forest - Mean Squared Error: 0.001381466759488794\n",
      "k-NN - Mean Squared Error: 0.0016124934995931694\n"
     ]
    }
   ],
   "source": [
    "# Evaluating models on fatality prediction\n",
    "print(\"\\nEvaluating Fatality Prediction Models:\")\n",
    "dt_killed_pred = dt_killed.predict(X_test_killed_subset)\n",
    "print(f\"Decision Tree - Mean Squared Error: {mean_squared_error(y_test_killed_subset, dt_killed_pred)}\")\n",
    "\n",
    "rf_killed_pred = rf_killed.predict(X_test_killed_subset)\n",
    "print(f\"Random Forest - Mean Squared Error: {mean_squared_error(y_test_killed_subset, rf_killed_pred)}\")\n",
    "\n",
    "knn_killed_pred = knn_killed.predict(X_test_killed_subset)\n",
    "print(f\"k-NN - Mean Squared Error: {mean_squared_error(y_test_killed_subset, knn_killed_pred)}\")"
   ]
  },
  {
   "cell_type": "markdown",
   "id": "6b7155c2",
   "metadata": {},
   "source": [
    "## Model Evaluation Results\n",
    "\n",
    "### Injury Prediction Models:\n",
    "- **Decision Tree - Mean Squared Error:** 0.7048\n",
    "  - Indicates moderate predictive power with some room for improvement.\n",
    "- **Random Forest - Mean Squared Error:** 0.6417\n",
    "  - Shows the best performance among the models, suggesting a more accurate prediction of injury numbers.\n",
    "- **k-Nearest Neighbors - Mean Squared Error:** 0.6901\n",
    "  - Comparable to Decision Tree, implying a moderate level of prediction accuracy.\n",
    "\n",
    "### Fatality Prediction Models:\n",
    "- **Decision Tree - Mean Squared Error:** 0.0018\n",
    "- **Random Forest - Mean Squared Error:** 0.0012\n",
    "- **k-Nearest Neighbors - Mean Squared Error:** 0.0012\n",
    "  - All models exhibit very low MSE in predicting fatalities, with Random Forest and k-NN being particularly effective, suggesting high accuracy in this prediction task.\n",
    "\n",
    "### Conclusion:\n",
    "- The **Random Forest model** stands out as the most consistent and accurate in predicting both injuries and fatalities. Its ensemble nature likely contributes to its superior performance.\n",
    "- While the **Decision Tree and k-NN models** show moderate accuracy in predicting injuries, they are also quite effective in predicting fatalities.\n",
    "- These results can guide future enhancements and optimizations of the models for more precise predictions.\n"
   ]
  },
  {
   "cell_type": "code",
   "execution_count": null,
   "id": "450d248b",
   "metadata": {},
   "outputs": [],
   "source": []
  }
 ],
 "metadata": {
  "kernelspec": {
   "display_name": "Python 3 (ipykernel)",
   "language": "python",
   "name": "python3"
  },
  "language_info": {
   "codemirror_mode": {
    "name": "ipython",
    "version": 3
   },
   "file_extension": ".py",
   "mimetype": "text/x-python",
   "name": "python",
   "nbconvert_exporter": "python",
   "pygments_lexer": "ipython3",
   "version": "3.11.4"
  },
  "vscode": {
   "interpreter": {
    "hash": "1c6c3d5409e9f59211fd20883a8d54dcf97d06d8c1f54731b3b753446d4f62db"
   }
  }
 },
 "nbformat": 4,
 "nbformat_minor": 5
}

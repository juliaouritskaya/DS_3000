{
 "cells": [
  {
   "cell_type": "markdown",
   "id": "79f695be",
   "metadata": {},
   "source": [
    "# DS 3000 - Lab 5: Web Scraping & EDA\n",
    "\n",
    "**Student Name**: [Juia Ouritskaya]\n",
    "\n",
    "**Date**: [10/6/2023]\n",
    "\n",
    "### Submission Instructions\n",
    "<div class=\"alert alert-block alert-success\">\n",
    "In this lab you will work with data that was scraped from Wikipedia and analyze it using useful pandas functions that group, sort and aggregate data. The data has been minimally prepared for you and the only data preparation that you are required to do is indicated in <strong>Part 2</strong>. Complete the questions in the lab and submit this `ipynb` file with your solution.\n",
    "</div>\n",
    "\n",
    "`Note:` The `ipynb` format stores outputs from the last time you ran the notebook. When you open a notebook it has the figures and outputs of the last time you ran it.  To ensure that your submitted `ipynb` file represents your latest code, make sure to give a fresh run `Kernel > Restart & Run All` just before uploading the `ipynb` file to Gradescope.\n",
    "\n",
    "<div class=\"alert alert-block alert-danger\">\n",
    "Please do not delete the cells that are provided nor add any extra cells. Ensure that you write your code in the given cells where indicated. <br>\n",
    "<strong>Do not delete any empty cells.</strong><br>\n",
    "</div>\n"
   ]
  },
  {
   "cell_type": "code",
   "execution_count": 1,
   "id": "5589bd7a",
   "metadata": {
    "deletable": false,
    "editable": false,
    "nbgrader": {
     "cell_type": "code",
     "checksum": "d5177a9c919c62e7536679f23a6b0506",
     "grade": true,
     "grade_id": "test_values",
     "locked": true,
     "points": 0,
     "schema_version": 3,
     "solution": false
    }
   },
   "outputs": [],
   "source": [
    "#DO NOT DELETE THIS CELL\n"
   ]
  },
  {
   "cell_type": "code",
   "execution_count": 2,
   "id": "c4693f9e",
   "metadata": {},
   "outputs": [],
   "source": [
    "# Import any Libraries\n",
    "import warnings\n",
    "warnings.filterwarnings('ignore')\n",
    "\n",
    "import pandas as pd"
   ]
  },
  {
   "cell_type": "markdown",
   "id": "8178a923",
   "metadata": {},
   "source": [
    "### Question 1 (5 pts)"
   ]
  },
  {
   "cell_type": "markdown",
   "id": "1778515d",
   "metadata": {},
   "source": [
    "This lab requires that you extract data from a website, load it into a dataframe and analyze it using useful pandas functions that allow you to group, sort and aggregate data.\n",
    "The data will be scraped from a Wikipedia page that shows the [percentage of population living below the national poverty line](https://en.wikipedia.org/wiki/List_of_sovereign_states_by_percentage_of_population_living_in_poverty#Percent_of_population_living_below_national_poverty_line) for various countries around the world. This data was collected by the WorldBank API, the CIA Factbook and other sources.\n",
    "\n",
    ">`Disclaimer:` Definitions of poverty vary considerably among nations. For example, rich nations generally employ more generous standards of poverty than poor nations. -- *Source: The World Factbook*\n",
    "\n",
    "\n",
    "### Important Instructions\n",
    "This lab is a graded assignment that will give you a chance to learn how to scrape data from HTML pages. The lab is divided into four parts:\n",
    "- Part 1: extract the data from the Wikipedia page (this step is done for you)\n",
    "- Part 2: transform the dataframe to prepare it for analysis\n",
    "- Part 3: identify the country with the highest poverty\n",
    "- part 4: analyze the average poverty across continents\n",
    "\n",
    "\n",
    "`Note:`\n",
    "- Please do not change the name of the variable `df_poverty_data` that is created in `Part 1`. The variable will be used as input to `Part 2`.  <br>\n",
    "- You can remove the `raise NotImplementedException()`. <br>\n",
    "- Part 1 is not graded. This step is performed for you.<br>\n",
    "\n",
    "\n",
    "`Note`: you are only required to complete the logic inside each function. You can test each function by running the subsequent code cell that prints the results.\n",
    "\n",
    "**Reminder**: DO NOT add or delete any cells below."
   ]
  },
  {
   "cell_type": "code",
   "execution_count": null,
   "id": "28b7c1be",
   "metadata": {},
   "outputs": [],
   "source": []
  },
  {
   "cell_type": "markdown",
   "id": "6f501218",
   "metadata": {},
   "source": [
    "### Part 1 (0 pt)\n",
    "\n",
    "The cell below performs the following steps:\n",
    "- Extract the html data from a wikipedia page and save the results in a pandas dataframe called `df_poverty_data`. \n",
    "- Rename specific column names that will be used in this lab. \n",
    "- Filter the dataframe to only contain data on poverty levels that were obtained from the CIA World Factbook.\n",
    "\n",
    "`Note:` It is recommended that you view the Wikipedia page which will help you to understand what data is being extracted. This URL shows the data that we will use in this lab: https://en.wikipedia.org/wiki/List_of_sovereign_states_by_percentage_of_population_living_in_poverty#Percent_of_population_living_below_national_poverty_line"
   ]
  },
  {
   "cell_type": "code",
   "execution_count": 3,
   "id": "8a08ebcf",
   "metadata": {
    "deletable": false,
    "editable": false,
    "nbgrader": {
     "cell_type": "code",
     "checksum": "59cc7c3213d4f0eaaff6535c602c3cc4",
     "grade": true,
     "grade_id": "extract_data",
     "locked": false,
     "points": 0,
     "schema_version": 3,
     "solution": false
    }
   },
   "outputs": [
    {
     "data": {
      "text/html": [
       "<div>\n",
       "<style scoped>\n",
       "    .dataframe tbody tr th:only-of-type {\n",
       "        vertical-align: middle;\n",
       "    }\n",
       "\n",
       "    .dataframe tbody tr th {\n",
       "        vertical-align: top;\n",
       "    }\n",
       "\n",
       "    .dataframe thead th {\n",
       "        text-align: right;\n",
       "    }\n",
       "</style>\n",
       "<table border=\"1\" class=\"dataframe\">\n",
       "  <thead>\n",
       "    <tr style=\"text-align: right;\">\n",
       "      <th></th>\n",
       "      <th>Country</th>\n",
       "      <th>FactBook_Percentage</th>\n",
       "      <th>FB_Year</th>\n",
       "      <th>Continent</th>\n",
       "    </tr>\n",
       "  </thead>\n",
       "  <tbody>\n",
       "    <tr>\n",
       "      <th>0</th>\n",
       "      <td>Afghanistan</td>\n",
       "      <td>54.5%</td>\n",
       "      <td>2017</td>\n",
       "      <td>Asia</td>\n",
       "    </tr>\n",
       "    <tr>\n",
       "      <th>1</th>\n",
       "      <td>Albania</td>\n",
       "      <td>14.3%</td>\n",
       "      <td>2012</td>\n",
       "      <td>Europe</td>\n",
       "    </tr>\n",
       "    <tr>\n",
       "      <th>2</th>\n",
       "      <td>Algeria</td>\n",
       "      <td>5.5%</td>\n",
       "      <td>2011</td>\n",
       "      <td>Africa</td>\n",
       "    </tr>\n",
       "    <tr>\n",
       "      <th>3</th>\n",
       "      <td>Angola</td>\n",
       "      <td>32.3%</td>\n",
       "      <td>2018</td>\n",
       "      <td>Africa</td>\n",
       "    </tr>\n",
       "    <tr>\n",
       "      <th>4</th>\n",
       "      <td>Anguilla</td>\n",
       "      <td>23.0%</td>\n",
       "      <td>2002</td>\n",
       "      <td>North America</td>\n",
       "    </tr>\n",
       "  </tbody>\n",
       "</table>\n",
       "</div>"
      ],
      "text/plain": [
       "       Country FactBook_Percentage FB_Year      Continent\n",
       "0  Afghanistan               54.5%    2017           Asia\n",
       "1      Albania               14.3%    2012         Europe\n",
       "2      Algeria                5.5%    2011         Africa\n",
       "3       Angola               32.3%    2018         Africa\n",
       "4     Anguilla               23.0%    2002  North America"
      ]
     },
     "execution_count": 3,
     "metadata": {},
     "output_type": "execute_result"
    }
   ],
   "source": [
    "# load the data\n",
    "url       = 'https://en.wikipedia.org/wiki/List_of_sovereign_states_by_percentage_of_population_living_in_poverty'\n",
    "html_data = pd.read_html(url) #scrape data from each html table in the Wikipedia page\n",
    "df_poverty_data = pd.DataFrame(html_data[2]) #extract the second table from the html data and convert it to a dataframe\n",
    "\n",
    "# Format the column names\n",
    "df_poverty_data.rename(columns={'CIA[10]': 'FactBook_Percentage', #this field is the poverty level\n",
    "                                    'Year.1': 'FB_Year'}, #this field is the most recent year that was recorded by the World Factbook\n",
    "                                    inplace=True)\n",
    "\n",
    "# Filter the dataframe to only use the data on poverty levels from the CIA World Factbook\n",
    "df_poverty_data = df_poverty_data[['Country', 'FactBook_Percentage', 'FB_Year', 'Continent']]\n",
    "df_poverty_data.head(5)\n",
    "\n"
   ]
  },
  {
   "cell_type": "code",
   "execution_count": null,
   "id": "7e32a374",
   "metadata": {},
   "outputs": [],
   "source": []
  },
  {
   "cell_type": "markdown",
   "id": "bacb59dc",
   "metadata": {},
   "source": [
    "### Part 2 (1 pt)\n",
    "\n",
    "Complete the function `format_factbook_data(data)`. The function takes as input `df_poverty_data_formatted`. Inside the function ensure that you:\n",
    "- Remove countries with missing data. Hint: the missing data is denoted by '—'\n",
    "- Convert the fields: `FactBook_Percentage` and `FB_Year` to suitable numeric types.\n"
   ]
  },
  {
   "cell_type": "code",
   "execution_count": 4,
   "id": "aca2a322",
   "metadata": {
    "deletable": false,
    "nbgrader": {
     "cell_type": "code",
     "checksum": "11e2b3eb0b36b4206dd31c13cf77ae44",
     "grade": false,
     "grade_id": "p_2",
     "locked": false,
     "schema_version": 3,
     "solution": true
    }
   },
   "outputs": [],
   "source": [
    "\n",
    "def format_factbook_data(data: pd.DataFrame) -> pd.DataFrame:\n",
    "    \"\"\"\n",
    "    Input pandas dataframe with the percentage of the population living below the national poverty line.\n",
    "\n",
    "    Parameters:\n",
    "    - data (pd.DataFrame): a pandas dataframe containing the poverty levels for various countries.\n",
    "\n",
    "    Returns:\n",
    "    - pd.DataFrame: pandas dataframe with four fields: Country, FactBook_Percentage, FB_Year, and Continent. \n",
    "                    Ensure that the FactBook_Percentage and FB_Year are converted to suitable numeric types.\n",
    "    \"\"\"\n",
    "\n",
    "    # Remove countries with missing data which is denoted by '–'\n",
    "    data = data[(data['FactBook_Percentage'] != '—') & (data['FactBook_Percentage'] != '') \n",
    "                & (data['FB_Year'] != '—') & (data['FB_Year'] != '')]\n",
    "    \n",
    "    # Convert the fields 'Factbook_Percentage' and 'FB_Year' to suitable numeric types\n",
    "    data['FactBook_Percentage'] = data['FactBook_Percentage'].str[:-1].astype(float) / 100.0\n",
    "    data['FB_Year'] = data['FB_Year'].astype(int)\n",
    "    \n",
    "    return data"
   ]
  },
  {
   "cell_type": "code",
   "execution_count": 5,
   "id": "c050ac4f",
   "metadata": {},
   "outputs": [
    {
     "data": {
      "text/html": [
       "<div>\n",
       "<style scoped>\n",
       "    .dataframe tbody tr th:only-of-type {\n",
       "        vertical-align: middle;\n",
       "    }\n",
       "\n",
       "    .dataframe tbody tr th {\n",
       "        vertical-align: top;\n",
       "    }\n",
       "\n",
       "    .dataframe thead th {\n",
       "        text-align: right;\n",
       "    }\n",
       "</style>\n",
       "<table border=\"1\" class=\"dataframe\">\n",
       "  <thead>\n",
       "    <tr style=\"text-align: right;\">\n",
       "      <th></th>\n",
       "      <th>Country</th>\n",
       "      <th>FactBook_Percentage</th>\n",
       "      <th>FB_Year</th>\n",
       "      <th>Continent</th>\n",
       "    </tr>\n",
       "  </thead>\n",
       "  <tbody>\n",
       "    <tr>\n",
       "      <th>0</th>\n",
       "      <td>Afghanistan</td>\n",
       "      <td>0.545</td>\n",
       "      <td>2017</td>\n",
       "      <td>Asia</td>\n",
       "    </tr>\n",
       "    <tr>\n",
       "      <th>1</th>\n",
       "      <td>Albania</td>\n",
       "      <td>0.143</td>\n",
       "      <td>2012</td>\n",
       "      <td>Europe</td>\n",
       "    </tr>\n",
       "    <tr>\n",
       "      <th>2</th>\n",
       "      <td>Algeria</td>\n",
       "      <td>0.055</td>\n",
       "      <td>2011</td>\n",
       "      <td>Africa</td>\n",
       "    </tr>\n",
       "    <tr>\n",
       "      <th>3</th>\n",
       "      <td>Angola</td>\n",
       "      <td>0.323</td>\n",
       "      <td>2018</td>\n",
       "      <td>Africa</td>\n",
       "    </tr>\n",
       "    <tr>\n",
       "      <th>4</th>\n",
       "      <td>Anguilla</td>\n",
       "      <td>0.230</td>\n",
       "      <td>2002</td>\n",
       "      <td>North America</td>\n",
       "    </tr>\n",
       "  </tbody>\n",
       "</table>\n",
       "</div>"
      ],
      "text/plain": [
       "       Country  FactBook_Percentage  FB_Year      Continent\n",
       "0  Afghanistan                0.545     2017           Asia\n",
       "1      Albania                0.143     2012         Europe\n",
       "2      Algeria                0.055     2011         Africa\n",
       "3       Angola                0.323     2018         Africa\n",
       "4     Anguilla                0.230     2002  North America"
      ]
     },
     "execution_count": 5,
     "metadata": {},
     "output_type": "execute_result"
    }
   ],
   "source": [
    "# Printing the result from the function\n",
    "df_poverty_data_formatted = format_factbook_data(df_poverty_data) #DO NOT change this line.\n",
    "df_poverty_data_formatted.head()"
   ]
  },
  {
   "cell_type": "code",
   "execution_count": 6,
   "id": "b691a3b3",
   "metadata": {
    "deletable": false,
    "editable": false,
    "nbgrader": {
     "cell_type": "code",
     "checksum": "f3079597e8f2821aa7dae5fa74e5bc9c",
     "grade": true,
     "grade_id": "factbook_test_cases",
     "locked": false,
     "points": 1,
     "schema_version": 3,
     "solution": false
    }
   },
   "outputs": [],
   "source": [
    "#DO NOT DELETE THIS CELL\n"
   ]
  },
  {
   "cell_type": "markdown",
   "id": "23cafd1e",
   "metadata": {},
   "source": [
    "### Part 3 (2 pts)\n",
    "\n",
    "Complete the function `highest_poverty(data)`. The function takes as input `df_poverty_data_formatted`. Inside the function ensure that you:\n",
    "- Identify the country with the highest percentage of the population living below the poverty line\n",
    "- Return a list with the name of the country and the year that the poverty data was recorded.\n"
   ]
  },
  {
   "cell_type": "code",
   "execution_count": 7,
   "id": "e0585adc",
   "metadata": {
    "deletable": false,
    "nbgrader": {
     "cell_type": "code",
     "checksum": "0dca4373d51e02397ed242b290a3f236",
     "grade": false,
     "grade_id": "p_3",
     "locked": false,
     "schema_version": 3,
     "solution": true
    }
   },
   "outputs": [],
   "source": [
    "\n",
    "def highest_poverty(data: pd.DataFrame) -> list:\n",
    "    \"\"\"\n",
    "    Input pandas dataframe with the percentage of the population living below the national poverty line.\n",
    "\n",
    "    Parameters:\n",
    "    - data (pd.DataFrame): a pandas dataframe containing the poverty levels for various countries.\n",
    "\n",
    "    Returns:\n",
    "    - List: a list with the country name and year e.g. ['Canada', 2016]\n",
    "    \"\"\"\n",
    "    # Identify the country with the highest percentage of the population living below the poverty line\n",
    "    # Sort the data in 'FactBook_Percentage' in descending order\n",
    "    sorted_data_descending = data.sort_values(by='FactBook_Percentage', ascending=False)\n",
    "    \n",
    "    # Select the first row\n",
    "    first_row = sorted_data_descending.iloc[0]\n",
    "    \n",
    "    # Return a list with the name of the country and the year that the poverty data was recorded\n",
    "    # Extract country and year from first row\n",
    "    country = first_row['Country']\n",
    "    year = first_row['FB_Year']\n",
    "    \n",
    "    return [country, year]"
   ]
  },
  {
   "cell_type": "code",
   "execution_count": 8,
   "id": "71d9771c",
   "metadata": {},
   "outputs": [
    {
     "name": "stdout",
     "output_type": "stream",
     "text": [
      "The country with the highest poverty level is Syria and the year this was reported was 2014.\n"
     ]
    }
   ],
   "source": [
    "# Printing the result from the function\n",
    "result = highest_poverty(df_poverty_data_formatted) #DO NOT change this line.\n",
    "print(f\"The country with the highest poverty level is {result[0]} and the year this was reported was {result[1]}.\")"
   ]
  },
  {
   "cell_type": "code",
   "execution_count": 9,
   "id": "90711fec",
   "metadata": {
    "deletable": false,
    "editable": false,
    "nbgrader": {
     "cell_type": "code",
     "checksum": "a45c609c7c832348f1d39292c2032a00",
     "grade": true,
     "grade_id": "highest_poverty_test",
     "locked": true,
     "points": 2,
     "schema_version": 3,
     "solution": false
    }
   },
   "outputs": [],
   "source": [
    "#DO NOT DELETE THIS CELL\n"
   ]
  },
  {
   "cell_type": "markdown",
   "id": "928d4571",
   "metadata": {},
   "source": [
    "### Part 4 (2 pts)\n",
    "\n",
    "Complete the function `average_poverty(data)`. The function takes as input `df_poverty_data_formatted`. Inside the function ensure that you:\n",
    "- Calculate the average poverty level for each continent\n",
    "- Return the names of the two continents with the highest average\n"
   ]
  },
  {
   "cell_type": "code",
   "execution_count": 10,
   "id": "473737ce",
   "metadata": {
    "deletable": false,
    "nbgrader": {
     "cell_type": "code",
     "checksum": "01ec36a3d355d1aa544ce6fa47da2473",
     "grade": false,
     "grade_id": "p_4",
     "locked": false,
     "schema_version": 3,
     "solution": true
    }
   },
   "outputs": [],
   "source": [
    "\n",
    "def average_poverty(data: pd.DataFrame) -> list:\n",
    "    \"\"\"\n",
    "    Input pandas dataframe with the percentage of the population living below the national poverty line.\n",
    "\n",
    "    Parameters:\n",
    "    - data (pd.DataFrame): a pandas dataframe containing the poverty levels for various countries.\n",
    "\n",
    "    Returns:\n",
    "    - List: a list that contains the name of two continents with the highest average.\n",
    "\n",
    "    \"\"\"\n",
    "    # Calculate the average poverty level for each continent\n",
    "    # Group by 'Continent' and calculate the mean of 'FactBook_Percentage'\n",
    "    average_poverty_by_continent = data.groupby('Continent')['FactBook_Percentage'].mean()\n",
    "    \n",
    "    # Sort the average values in descending order  \n",
    "    sorted_continents_descending = average_poverty_by_continent.sort_values(ascending=False)\n",
    "    \n",
    "    # Extract the first two rows\n",
    "    first_continent = sorted_continents_descending.index[0]\n",
    "    second_continent = sorted_continents_descending.index[1]\n",
    "    \n",
    "    return [first_continent, second_continent]"
   ]
  },
  {
   "cell_type": "code",
   "execution_count": 11,
   "id": "006e6053",
   "metadata": {},
   "outputs": [
    {
     "name": "stdout",
     "output_type": "stream",
     "text": [
      "On average, Africa has the highest poverty level followed by North America.\n"
     ]
    }
   ],
   "source": [
    "# Printing the result from the function\n",
    "result = average_poverty(df_poverty_data_formatted)\n",
    "\n",
    "print(f\"On average, {result[0]} has the highest poverty level followed by {result[1]}.\")\n"
   ]
  },
  {
   "cell_type": "code",
   "execution_count": 12,
   "id": "4081c713",
   "metadata": {
    "deletable": false,
    "editable": false,
    "nbgrader": {
     "cell_type": "code",
     "checksum": "6afe5ef35e9fe1fee44bda1a28bb9ee8",
     "grade": true,
     "grade_id": "average_poverty_test",
     "locked": true,
     "points": 2,
     "schema_version": 3,
     "solution": false
    }
   },
   "outputs": [],
   "source": [
    "#DO NOT DELETE THIS CELL\n"
   ]
  },
  {
   "cell_type": "markdown",
   "id": "80b317ce",
   "metadata": {},
   "source": [
    "**Good job with the lab. Hopefully you learned something new about our world. After you submit the lab, I encourage you to keep exploring the data to extract more insights!**"
   ]
  },
  {
   "cell_type": "markdown",
   "id": "ac451eb6",
   "metadata": {},
   "source": [
    "### Additional Resource:\n",
    "\n",
    "#### [1. Pandas Documentation](https://pandas.pydata.org/docs/) \n",
    "#### [2. Pandas Cheatsheet](https://images.datacamp.com/image/upload/v1676302204/Marketing/Blog/Pandas_Cheat_Sheet.pdf)"
   ]
  }
 ],
 "metadata": {
  "kernelspec": {
   "display_name": "Python 3 (ipykernel)",
   "language": "python",
   "name": "python3"
  },
  "language_info": {
   "codemirror_mode": {
    "name": "ipython",
    "version": 3
   },
   "file_extension": ".py",
   "mimetype": "text/x-python",
   "name": "python",
   "nbconvert_exporter": "python",
   "pygments_lexer": "ipython3",
   "version": "3.11.4"
  }
 },
 "nbformat": 4,
 "nbformat_minor": 5
}

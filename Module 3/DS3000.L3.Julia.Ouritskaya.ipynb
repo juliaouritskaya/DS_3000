{
 "cells": [
  {
   "cell_type": "markdown",
   "id": "79f695be",
   "metadata": {},
   "source": [
    "# DS 3000 - Lab 3: Numpy Arrays\n",
    "\n",
    "**Student Name**: [Julia Ouritskaya]\n",
    "\n",
    "**Date**: [9/23/2023]\n",
    "\n",
    "### Submission Instructions\n",
    "Submit this `ipynb` file with your solution.\n",
    "\n",
    "The `ipynb` format stores outputs from the last time you ran the notebook.  (When you open a notebook it has the figures and outputs of the last time you ran it too).  To ensure that your submitted `ipynb` file represents your latest code, make sure to give a fresh run `Kernel > Restart & Run All` just before uploading the `ipynb` file to Canvas.\n",
    "\n",
    "`Note:`  **<span style='color:red'> Please do not delete the cells that are provided nor add any extra cells. Ensure that you write your code in the given cells where indicated.** \n",
    "**Do not delete any empty cells.</span>**<br>\n",
    "\n",
    "### Important Instructions\n",
    "- Please do not change the name of the variable `week` as Part B & C are dependent on the exact variable name. <br>\n",
    "- You can remove the `raise NotImplementedException()`. <br>\n",
    "- Part A of the Question is not graded although there is a Test Case to check whether the result is right.<br>\n",
    "- Part C of the Questions asks about the Average Humidity rounded to the nearest Tenths place.<br>"
   ]
  },
  {
   "cell_type": "code",
   "execution_count": null,
   "id": "5589bd7a",
   "metadata": {
    "deletable": false,
    "editable": false,
    "nbgrader": {
     "cell_type": "code",
     "checksum": "f68566cd160988f879ad4f106df43aa5",
     "grade": true,
     "grade_id": "test_values",
     "locked": true,
     "points": 0,
     "schema_version": 3,
     "solution": false
    }
   },
   "outputs": [],
   "source": []
  },
  {
   "cell_type": "code",
   "execution_count": 1,
   "id": "c4693f9e",
   "metadata": {},
   "outputs": [],
   "source": [
    "# Import any Libraries\n",
    "import numpy as np"
   ]
  },
  {
   "cell_type": "markdown",
   "id": "8178a923",
   "metadata": {},
   "source": [
    "### 1. (5 pt) Question 1:"
   ]
  },
  {
   "cell_type": "markdown",
   "id": "1778515d",
   "metadata": {},
   "source": [
    "You are given two lists that represent humidity levels (in %RH) of **week1**: [71, 67, 60, 55, 40, 66, 45], and the for first four days of **week2**: [80, 44, 50, 33]. This question has three parts that requires you to analyze these humidity levels.\n",
    "\n",
    "\n",
    "#### Part A: (Not graded. Although, `Part A` is required for `Part B` & `Part C`)\n",
    "Complete the function `concatenate_week(week1, week2)`. Inside the function ensure that you:\n",
    "- Create numpy arrays for both **week1** and **week2**. \n",
    "- Concatenate the arrays for **week1** and **week2**. \n",
    "- Return the concatenated array (and this will be stored in a new variable called **week**).\n",
    "\n",
    "\n",
    "#### Part B: (2.5 pts)\n",
    "Complete the function `sort_and_size(week)`. Inside the function ensure that you:\n",
    "- Sort **week** in ascending order and print it.\n",
    "- Return the sorted array of humidity levels and its size.\n",
    "\n",
    "\n",
    "#### Part C: (2.5 pts)\n",
    "Complete the function `analyze_week(week)`. Inside the function ensure that you:\n",
    "- Calculate the average humidity.\n",
    "- Obtain the two highest humidity levels.\n",
    "- Return the average humidity (rounded to one decimal place) and the two highest humidity levels.\n",
    "\n",
    "\n",
    "`Note`: you are only required to complete the logic inside each function. You can test each function by running the subsequent code cell that prints the results.\n",
    "\n",
    "**Reminder**: DO NOT add or delete any cells below."
   ]
  },
  {
   "cell_type": "markdown",
   "id": "6f501218",
   "metadata": {},
   "source": [
    "### Part A"
   ]
  },
  {
   "cell_type": "code",
   "execution_count": 2,
   "id": "8a08ebcf",
   "metadata": {},
   "outputs": [],
   "source": [
    "# python lists for week1 and week2i\n",
    "week1 = [71, 67, 60, 55, 40, 66, 45]\n",
    "week2 = [80, 44, 50, 33]"
   ]
  },
  {
   "cell_type": "code",
   "execution_count": 3,
   "id": "e0585adc",
   "metadata": {
    "deletable": false,
    "nbgrader": {
     "cell_type": "code",
     "checksum": "3f5517a7cfa51153f355319bc9bbd295",
     "grade": false,
     "grade_id": "concat_question",
     "locked": false,
     "schema_version": 3,
     "solution": true
    }
   },
   "outputs": [],
   "source": [
    "# Function to concatenate week1 and week2\n",
    "def concatenate_week(week1, week2):\n",
    "    \"\"\"\n",
    "    Input two python lists representing humidity levels for two weeks.\n",
    "\n",
    "    Parameters:\n",
    "    - week1 (list): python list containing humidity levels for week 1.\n",
    "    - week2 (list): python list containing humidity levels for week 2.\n",
    "\n",
    "    Returns:\n",
    "    - numpy.ndarray: Concatenated array containing humidity levels for both weeks.\n",
    "    \"\"\"\n",
    "    week1_array = np.array(week1)\n",
    "    week2_array = np.array(week2)\n",
    "    week = np.concatenate((week1_array, week2_array))\n",
    "    return week"
   ]
  },
  {
   "cell_type": "code",
   "execution_count": 4,
   "id": "71d9771c",
   "metadata": {},
   "outputs": [
    {
     "name": "stdout",
     "output_type": "stream",
     "text": [
      "Concatenated week: [71 67 60 55 40 66 45 80 44 50 33]\n"
     ]
    }
   ],
   "source": [
    "# Printing the result from the function\n",
    "week = concatenate_week(week1, week2) #DO NOT change this line.\n",
    "print(\"Concatenated week:\", week)"
   ]
  },
  {
   "cell_type": "code",
   "execution_count": null,
   "id": "90711fec",
   "metadata": {
    "deletable": false,
    "editable": false,
    "nbgrader": {
     "cell_type": "code",
     "checksum": "a150af000205e4e787621399be465026",
     "grade": true,
     "grade_id": "concatenation_test",
     "locked": true,
     "points": 0,
     "schema_version": 3,
     "solution": false
    }
   },
   "outputs": [],
   "source": []
  },
  {
   "cell_type": "markdown",
   "id": "928d4571",
   "metadata": {},
   "source": [
    "### Part B: 2.5 Pts"
   ]
  },
  {
   "cell_type": "code",
   "execution_count": 5,
   "id": "473737ce",
   "metadata": {
    "deletable": false,
    "nbgrader": {
     "cell_type": "code",
     "checksum": "0541f8b593cf0ca709d75515a766653f",
     "grade": false,
     "grade_id": "sort_size_question",
     "locked": false,
     "schema_version": 3,
     "solution": true
    }
   },
   "outputs": [],
   "source": [
    "# Function to sort the week, and get its size\n",
    "def sort_and_size(week):\n",
    "    \"\"\"\n",
    "    Sort and calculate the size of a numpy array representing humidity levels for week.\n",
    "\n",
    "    Parameters:\n",
    "    - week (numpy.ndarray): Array containing humidity levels for week.\n",
    "\n",
    "    Returns:\n",
    "    - tuple: A tuple containing two elements:\n",
    "        - sorted_week (numpy.ndarray): Array of humidity levels sorted in ascending order.\n",
    "        - size_week (int): The number of elements in the input array.\n",
    "    \"\"\"\n",
    "    sorted_week = np.sort(week)\n",
    "    print(sorted_week)\n",
    "    return sorted_week, len(sorted_week)"
   ]
  },
  {
   "cell_type": "code",
   "execution_count": 6,
   "id": "006e6053",
   "metadata": {},
   "outputs": [
    {
     "name": "stdout",
     "output_type": "stream",
     "text": [
      "[33 40 44 45 50 55 60 66 67 71 80]\n",
      "Sorted week: [33 40 44 45 50 55 60 66 67 71 80]\n",
      "Size of week: 11\n"
     ]
    }
   ],
   "source": [
    "# Printing the result from the function\n",
    "sorted_week, size_week = sort_and_size(week)\n",
    "\n",
    "print(\"Sorted week:\", sorted_week)\n",
    "print(\"Size of week:\", size_week)"
   ]
  },
  {
   "cell_type": "code",
   "execution_count": null,
   "id": "4081c713",
   "metadata": {
    "deletable": false,
    "editable": false,
    "nbgrader": {
     "cell_type": "code",
     "checksum": "55d264475cdcf4794a703bfa57b42428",
     "grade": true,
     "grade_id": "sort_size_test",
     "locked": true,
     "points": 2.5,
     "schema_version": 3,
     "solution": false
    }
   },
   "outputs": [],
   "source": []
  },
  {
   "cell_type": "markdown",
   "id": "e842d1ca",
   "metadata": {},
   "source": [
    "### Part C: 2.5 Pts"
   ]
  },
  {
   "cell_type": "code",
   "execution_count": 7,
   "id": "09ce79e3",
   "metadata": {
    "deletable": false,
    "nbgrader": {
     "cell_type": "code",
     "checksum": "65b3c802bb205451cac79e5333152854",
     "grade": false,
     "grade_id": "analyse_week_question",
     "locked": false,
     "schema_version": 3,
     "solution": true
    }
   },
   "outputs": [],
   "source": [
    "# Function to analyze the humidity levels for week\n",
    "def analyze_week(week):\n",
    "    \"\"\"\n",
    "    Analyzes a numpy array of humidity levels for week.\n",
    "\n",
    "    Parameters:\n",
    "    - week (numpy.ndarray): Array containing humidity levels for a week.\n",
    "\n",
    "    Returns:\n",
    "    - tuple: A tuple containing two elements:\n",
    "        - rounded_average_humidity (float): The average humidity rounded to the nearest tenth.\n",
    "        - two_highest_humidity (numpy.ndarray): Array containing the two highest humidity levels.\n",
    "    \"\"\"\n",
    "    average_humidity = np.mean(week)\n",
    "    highest_humidity = np.sort(week)[-2:]\n",
    "    return round(average_humidity, 1), highest_humidity"
   ]
  },
  {
   "cell_type": "code",
   "execution_count": 8,
   "id": "b21ed1fe",
   "metadata": {},
   "outputs": [
    {
     "name": "stdout",
     "output_type": "stream",
     "text": [
      "Average humidity: 55.5\n",
      "Top 2 highest humidity: [71 80]\n"
     ]
    }
   ],
   "source": [
    "# Printing the result from the function\n",
    "rounded_average_humidity, two_highest_humidity = analyze_week(week)\n",
    "\n",
    "print(\"Average humidity:\", rounded_average_humidity)\n",
    "print(\"Top 2 highest humidity:\", two_highest_humidity)"
   ]
  },
  {
   "cell_type": "code",
   "execution_count": null,
   "id": "b7a3ee0a",
   "metadata": {
    "deletable": false,
    "editable": false,
    "nbgrader": {
     "cell_type": "code",
     "checksum": "c54813125900ad0b93c31c37683a3884",
     "grade": true,
     "grade_id": "analyze_week_test",
     "locked": true,
     "points": 2.5,
     "schema_version": 3,
     "solution": false
    }
   },
   "outputs": [],
   "source": []
  },
  {
   "cell_type": "markdown",
   "id": "ac451eb6",
   "metadata": {},
   "source": [
    "### Additional Resource:\n",
    "\n",
    "#### [1. NumPy Official Documentation](https://numpy.org/doc/1.25/user/index.html#user) \n",
    "In the NumPy User Guide, you'll find comprehensive documentation, examples, and tutorials covering various aspects of NumPy, including array creation, manipulation, indexing, and more."
   ]
  }
 ],
 "metadata": {
  "kernelspec": {
   "display_name": "Python 3 (ipykernel)",
   "language": "python",
   "name": "python3"
  },
  "language_info": {
   "codemirror_mode": {
    "name": "ipython",
    "version": 3
   },
   "file_extension": ".py",
   "mimetype": "text/x-python",
   "name": "python",
   "nbconvert_exporter": "python",
   "pygments_lexer": "ipython3",
   "version": "3.11.4"
  }
 },
 "nbformat": 4,
 "nbformat_minor": 5
}

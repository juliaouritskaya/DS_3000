{
 "cells": [
  {
   "cell_type": "markdown",
   "metadata": {},
   "source": [
    "# DS 3000 - Lab 2: Control Flow\n",
    "\n",
    "**Student Name**: [Julia Ouritskaya]\n",
    "\n",
    "**Date**: [9/16/2023]\n",
    "\n",
    "### Submission Instructions\n",
    "Submit this `ipynb` file with your solution.\n",
    "\n",
    "The `ipynb` format stores outputs from the last time you ran the notebook.  (When you open a notebook it has the figures and outputs of the last time you ran it too).  To ensure that your submitted `ipynb` file represents your latest code, make sure to give a fresh run `Kernel > Restart & Run All` just before uploading the `ipynb` file to Canvas.\n",
    "\n",
    "`Note:`  **<span style='color:red'> Please do not delete the cells that are provided nor add any extra cells. Ensure that you write your code in the given cells where indicated.** \n",
    "**Do not delete any empty cells.</span>**"
   ]
  },
  {
   "cell_type": "code",
   "execution_count": 1,
   "metadata": {},
   "outputs": [],
   "source": [
    "#Import any libraries\n"
   ]
  },
  {
   "cell_type": "markdown",
   "metadata": {},
   "source": [
    "### 1. (5 pt) Question 1:"
   ]
  },
  {
   "cell_type": "markdown",
   "metadata": {},
   "source": [
    "Write a program that uses `if…elif…else` statements to display whether any number that is provided is either 'positive', 'negative', or 'zero'.<br>\n",
    "\n",
    "`Note`: This program will not run until you enter a number to the `user_input` variable in step 2<br>\n",
    "**Reminder**: DO NOT add or delete any cells below."
   ]
  },
  {
   "cell_type": "code",
   "execution_count": 2,
   "metadata": {
    "deletable": false,
    "nbgrader": {
     "cell_type": "code",
     "checksum": "204b406e1aa9df104ca2577f62be9d0c",
     "grade": false,
     "grade_id": "q_1",
     "locked": false,
     "schema_version": 3,
     "solution": true
    }
   },
   "outputs": [],
   "source": [
    "def check_number(user_input):\n",
    "    \"\"\"\n",
    "    Determine whether a number is positive, negative, or zero.\n",
    "\n",
    "    Parameters:\n",
    "    user_input (float): The input number to be checked.\n",
    "\n",
    "    Returns:\n",
    "    result: A string indicating whether the number is 'positive', 'negative', or 'zero'.\n",
    "    \"\"\"\n",
    "    result = None # Acceptable return string are \"positive\", \"negative\" or \"zero\" (Result must be in lowercase as indicated in the quotes)\n",
    "\n",
    "    ## code goes here\n",
    "    # if the number is positive\n",
    "    if user_input > 0:\n",
    "        result = \"positive\"\n",
    "    # if the number is negative\n",
    "    elif user_input < 0:\n",
    "        result = \"negative\"\n",
    "    # if the number is zerp\n",
    "    else:\n",
    "        result = \"zero\"\n",
    "        \n",
    "    return result\n",
    "\n",
    "    raise NotImplementedError()"
   ]
  },
  {
   "cell_type": "code",
   "execution_count": 3,
   "metadata": {},
   "outputs": [
    {
     "name": "stdout",
     "output_type": "stream",
     "text": [
      "zero\n",
      "positive\n",
      "negative\n",
      "zero\n"
     ]
    }
   ],
   "source": [
    "\n",
    "user_input = float(0) # Enter the number inside the parenthesis to test your function\n",
    "result = check_number(user_input)\n",
    "print(result)\n",
    "\n",
    "print(check_number(1))\n",
    "print(check_number(-1))\n",
    "print(check_number(0))"
   ]
  },
  {
   "cell_type": "code",
   "execution_count": null,
   "metadata": {
    "deletable": false,
    "editable": false,
    "nbgrader": {
     "cell_type": "code",
     "checksum": "43553b4e69ee9e0fcb2be90ab9102d42",
     "grade": true,
     "grade_id": "positive_test",
     "locked": false,
     "points": 2,
     "schema_version": 3,
     "solution": false
    }
   },
   "outputs": [],
   "source": []
  },
  {
   "cell_type": "code",
   "execution_count": null,
   "metadata": {
    "deletable": false,
    "editable": false,
    "nbgrader": {
     "cell_type": "code",
     "checksum": "592c89e9cac684fb88cff986152b2263",
     "grade": true,
     "grade_id": "negative_test",
     "locked": false,
     "points": 2,
     "schema_version": 3,
     "solution": false
    }
   },
   "outputs": [],
   "source": []
  },
  {
   "cell_type": "code",
   "execution_count": null,
   "metadata": {
    "deletable": false,
    "editable": false,
    "nbgrader": {
     "cell_type": "code",
     "checksum": "ba9256d56fb89a2d6ad5bc9cd66af9e0",
     "grade": true,
     "grade_id": "zero_test",
     "locked": false,
     "points": 1,
     "schema_version": 3,
     "solution": false
    }
   },
   "outputs": [],
   "source": []
  },
  {
   "cell_type": "markdown",
   "metadata": {},
   "source": [
    "### Additional Resources:\n",
    "\n",
    "#### 1. W3Schools Python `If...Else` Statements:\n",
    "\n",
    "This page explains how to use `if...elif...else` statements in Python, which is exactly what the students need for the code snippet.<br>\n",
    "Link: [W3Schools Python If...Else Statements](https://www.w3schools.com/python/python_conditions.asp)\n",
    "\n",
    "#### 2. GeeksforGeeks Python Conditional Statements:\n",
    "\n",
    "GeeksforGeeks offers a concise tutorial on conditional statements in Python, including `if...elif...else`. <br>\n",
    "Link: [GeeksforGeeks Python Conditional Statements](https://www.geeksforgeeks.org/python-programming-language/)\n",
    "\n",
    "#### 3. Python.org Control Flow:\n",
    "Python's official documentation provides information on control flow, including if statements.<br>\n",
    "Link: [Python.org Control Flow](https://docs.python.org/3/tutorial/controlflow.html)"
   ]
  }
 ],
 "metadata": {
  "kernelspec": {
   "display_name": "Python 3 (ipykernel)",
   "language": "python",
   "name": "python3"
  },
  "language_info": {
   "codemirror_mode": {
    "name": "ipython",
    "version": 3
   },
   "file_extension": ".py",
   "mimetype": "text/x-python",
   "name": "python",
   "nbconvert_exporter": "python",
   "pygments_lexer": "ipython3",
   "version": "3.11.4"
  }
 },
 "nbformat": 4,
 "nbformat_minor": 1
}

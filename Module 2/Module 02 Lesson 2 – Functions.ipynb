{
 "cells": [
  {
   "cell_type": "markdown",
   "id": "e35696e1",
   "metadata": {},
   "source": [
    "# Functions"
   ]
  },
  {
   "cell_type": "markdown",
   "id": "315b7d32",
   "metadata": {},
   "source": [
    "A function is a block of reusable code that was designed to perform a specific task. We can use python builtin functions or create our own (user-defined) functions. Examples of built-in functions are: `print()`, `type()`, `max()`, and `min()`.\n",
    "\n",
    "1. [Python Built-in Functions](#builtin)\n",
    "2. [User-Defined Functions](#user-defined)"
   ]
  },
  {
   "cell_type": "markdown",
   "id": "17aab16e",
   "metadata": {},
   "source": [
    "<a id='builtin'></a>\n",
    "## 1. Python Built-in Functions\n",
    "The built-in functions are previously created and you can use them directly in your code. For example: `print('Hello World')`"
   ]
  },
  {
   "cell_type": "code",
   "execution_count": 13,
   "id": "b8763560",
   "metadata": {},
   "outputs": [
    {
     "name": "stdout",
     "output_type": "stream",
     "text": [
      "Congrats  Jane  you scored  97  on the course.\n"
     ]
    }
   ],
   "source": [
    "student_name = 'Jane'\n",
    "exam_score = 92\n",
    "bonus_points = 5\n",
    "final_grade = exam_score + bonus_points\n",
    "print('Congrats ', student_name, ' you scored ', final_grade, ' on the course.')"
   ]
  },
  {
   "cell_type": "code",
   "execution_count": 1,
   "id": "14ec78a7",
   "metadata": {},
   "outputs": [
    {
     "name": "stdout",
     "output_type": "stream",
     "text": [
      "Welcome!\n"
     ]
    }
   ],
   "source": [
    "#display a message\n",
    "print('Welcome!')"
   ]
  },
  {
   "cell_type": "code",
   "execution_count": 2,
   "id": "a77b56f4",
   "metadata": {},
   "outputs": [
    {
     "data": {
      "text/plain": [
       "2"
      ]
     },
     "execution_count": 2,
     "metadata": {},
     "output_type": "execute_result"
    }
   ],
   "source": [
    "#return the minimum value\n",
    "min(101, 17, 2, 43)"
   ]
  },
  {
   "cell_type": "code",
   "execution_count": 3,
   "id": "72b7de8c",
   "metadata": {},
   "outputs": [
    {
     "data": {
      "text/plain": [
       "101"
      ]
     },
     "execution_count": 3,
     "metadata": {},
     "output_type": "execute_result"
    }
   ],
   "source": [
    "#return the maximum value\n",
    "max(101, 17, 2, 43)"
   ]
  },
  {
   "cell_type": "code",
   "execution_count": 4,
   "id": "49c2dcdf",
   "metadata": {},
   "outputs": [
    {
     "name": "stdout",
     "output_type": "stream",
     "text": [
      "57\n"
     ]
    }
   ],
   "source": [
    "result = min(57, 92, 111)\n",
    "print(result)"
   ]
  },
  {
   "cell_type": "markdown",
   "id": "e56bfc7d",
   "metadata": {},
   "source": [
    "<a id='user-defined'></a>\n",
    "## 1. User-Defined Functions\n",
    "You can create your own function and these are called user-defined functions.\n",
    "\n",
    "    1. Function Definition & Calling Functions\n",
    "    2. Functions with Parameters\n",
    "    3. Functions with Default Parameter Values"
   ]
  },
  {
   "cell_type": "markdown",
   "id": "3aa00451",
   "metadata": {},
   "source": [
    "### Function Definition\n",
    "Functions are defined using the `def` keyword, followed by the function name, a set of parentheses and a colon. On the next lines of code, the logic for the function should be indented. \n",
    "\n",
    "The syntax for `function` definition\n",
    "\n",
    "<span style=\"font-family:monospace; margin-left:20px; display:block;\"><span style=\"color:green;\">def</span> <span style=\"color:purple;\">function_name</span>():</span>\n",
    "<span style=\"font-family:monospace; margin-left:60px; display:block;\">statement</span>"
   ]
  },
  {
   "cell_type": "code",
   "execution_count": 5,
   "id": "d2441455",
   "metadata": {},
   "outputs": [
    {
     "name": "stdout",
     "output_type": "stream",
     "text": [
      "Hellow, welcome to DS 3000\n",
      "All the best in the course!\n"
     ]
    }
   ],
   "source": [
    "def greeting():\n",
    "    print('Hellow, welcome to DS 3000')\n",
    "    print('All the best in the course!')\n",
    "    \n",
    "#call the function\n",
    "greeting()"
   ]
  },
  {
   "cell_type": "markdown",
   "id": "cbc015e5",
   "metadata": {},
   "source": [
    "### Functions with Parameters\n",
    "Functions can have parameters (this is optional), and they are defined within the parentheses."
   ]
  },
  {
   "cell_type": "code",
   "execution_count": 6,
   "id": "1cc9412e",
   "metadata": {},
   "outputs": [
    {
     "name": "stdout",
     "output_type": "stream",
     "text": [
      "Hello  Jane Black , welcome to DS 3000\n",
      "All the best in the course!\n"
     ]
    }
   ],
   "source": [
    "def greeting(student_name):\n",
    "    print('Hello ', student_name, ', welcome to DS 3000')\n",
    "    print('All the best in the course!')\n",
    "    \n",
    "greeting('Jane Black')"
   ]
  },
  {
   "cell_type": "code",
   "execution_count": 7,
   "id": "b9300556",
   "metadata": {},
   "outputs": [
    {
     "name": "stdout",
     "output_type": "stream",
     "text": [
      "Hello  Jason Andrews , welcome to DS 3000\n",
      "All the best in the course!\n"
     ]
    }
   ],
   "source": [
    "greeting('Jason Andrews')"
   ]
  },
  {
   "cell_type": "markdown",
   "id": "9ef5de48",
   "metadata": {},
   "source": [
    "### Functions with Multiple Parameters"
   ]
  },
  {
   "cell_type": "code",
   "execution_count": 9,
   "id": "0880073e",
   "metadata": {},
   "outputs": [
    {
     "name": "stdout",
     "output_type": "stream",
     "text": [
      "79\n"
     ]
    }
   ],
   "source": [
    "def sum(num1, num2):\n",
    "    result = num1 + num2\n",
    "    print(result)\n",
    "    \n",
    "sum(77, 2)"
   ]
  },
  {
   "cell_type": "code",
   "execution_count": 11,
   "id": "1eb07316",
   "metadata": {},
   "outputs": [
    {
     "name": "stdout",
     "output_type": "stream",
     "text": [
      "7\n"
     ]
    }
   ],
   "source": [
    "def sum(num1, num2):\n",
    "    result = num1 + num2\n",
    "    \n",
    "    return result\n",
    "\n",
    "output = sum(2, 5)\n",
    "print(output)"
   ]
  },
  {
   "cell_type": "markdown",
   "id": "a525a405",
   "metadata": {},
   "source": [
    "### Functions with Default Parameter Values\n"
   ]
  },
  {
   "cell_type": "code",
   "execution_count": 14,
   "id": "73c4ebbc",
   "metadata": {},
   "outputs": [
    {
     "data": {
      "text/plain": [
       "70"
      ]
     },
     "execution_count": 14,
     "metadata": {},
     "output_type": "execute_result"
    }
   ],
   "source": [
    "def product(num1, num2, num3 = 7):\n",
    "    return num1 * num2 * num3\n",
    "\n",
    "product(5, 2, 10)\n",
    "\n",
    "product(5, 2)"
   ]
  },
  {
   "cell_type": "code",
   "execution_count": null,
   "id": "61c4c255",
   "metadata": {},
   "outputs": [],
   "source": []
  }
 ],
 "metadata": {
  "kernelspec": {
   "display_name": "Python 3 (ipykernel)",
   "language": "python",
   "name": "python3"
  },
  "language_info": {
   "codemirror_mode": {
    "name": "ipython",
    "version": 3
   },
   "file_extension": ".py",
   "mimetype": "text/x-python",
   "name": "python",
   "nbconvert_exporter": "python",
   "pygments_lexer": "ipython3",
   "version": "3.11.4"
  }
 },
 "nbformat": 4,
 "nbformat_minor": 5
}

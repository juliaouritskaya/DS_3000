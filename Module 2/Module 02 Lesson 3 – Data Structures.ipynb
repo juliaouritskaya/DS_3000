{
 "cells": [
  {
   "cell_type": "markdown",
   "id": "e35696e1",
   "metadata": {},
   "source": [
    "# Lists, Tuples, Sets, & Dictionaries"
   ]
  },
  {
   "cell_type": "markdown",
   "id": "0c3b30ba",
   "metadata": {},
   "source": [
    "### Lists\n",
    "Values can be changed."
   ]
  },
  {
   "cell_type": "code",
   "execution_count": 34,
   "id": "887f1705",
   "metadata": {},
   "outputs": [
    {
     "name": "stdout",
     "output_type": "stream",
     "text": [
      "['History', 'Math', 'Physics', 'CompSci']\n"
     ]
    }
   ],
   "source": [
    "courses = ['History', 'Math', 'Physics', 'CompSci']\n",
    "\n",
    "print(courses)"
   ]
  },
  {
   "cell_type": "code",
   "execution_count": 35,
   "id": "879f9e0d",
   "metadata": {},
   "outputs": [
    {
     "name": "stdout",
     "output_type": "stream",
     "text": [
      "['History', 'Math', 'Physics', 'CompSci', 'Art']\n"
     ]
    }
   ],
   "source": [
    "courses.append('Art')\n",
    "\n",
    "print(courses)"
   ]
  },
  {
   "cell_type": "code",
   "execution_count": 36,
   "id": "29355200",
   "metadata": {},
   "outputs": [
    {
     "name": "stdout",
     "output_type": "stream",
     "text": [
      "['Chemistry', 'History', 'Math', 'Physics', 'CompSci', 'Art']\n"
     ]
    }
   ],
   "source": [
    "courses.insert(0, 'Chemistry')\n",
    "\n",
    "print(courses)"
   ]
  },
  {
   "cell_type": "code",
   "execution_count": 37,
   "id": "a545a949",
   "metadata": {},
   "outputs": [
    {
     "name": "stdout",
     "output_type": "stream",
     "text": [
      "['Chemistry', 'History', 'Math', 'Physics', 'CompSci', 'Art', 'Education', 'English']\n"
     ]
    }
   ],
   "source": [
    "courses_2 = ['Education', 'English']\n",
    "\n",
    "courses.extend(courses_2)\n",
    "\n",
    "print(courses)"
   ]
  },
  {
   "cell_type": "code",
   "execution_count": 38,
   "id": "a617242d",
   "metadata": {},
   "outputs": [
    {
     "name": "stdout",
     "output_type": "stream",
     "text": [
      "['Chemistry', 'History', 'Physics', 'CompSci', 'Art', 'Education', 'English']\n"
     ]
    }
   ],
   "source": [
    "courses.remove('Math')\n",
    "\n",
    "print(courses)"
   ]
  },
  {
   "cell_type": "code",
   "execution_count": 40,
   "id": "e3c085c1",
   "metadata": {},
   "outputs": [
    {
     "name": "stdout",
     "output_type": "stream",
     "text": [
      "Education\n",
      "['Chemistry', 'History', 'Physics', 'CompSci', 'Art']\n"
     ]
    }
   ],
   "source": [
    "popped = courses.pop()\n",
    "\n",
    "print(popped)\n",
    "print(courses)"
   ]
  },
  {
   "cell_type": "code",
   "execution_count": 41,
   "id": "3fe25aa6",
   "metadata": {},
   "outputs": [
    {
     "name": "stdout",
     "output_type": "stream",
     "text": [
      "['Art', 'CompSci', 'Physics', 'History', 'Chemistry']\n"
     ]
    }
   ],
   "source": [
    "courses.reverse() \n",
    "\n",
    "print(courses)"
   ]
  },
  {
   "cell_type": "code",
   "execution_count": 42,
   "id": "5361b3ed",
   "metadata": {},
   "outputs": [
    {
     "name": "stdout",
     "output_type": "stream",
     "text": [
      "['Art', 'Chemistry', 'CompSci', 'History', 'Physics']\n"
     ]
    }
   ],
   "source": [
    "courses.sort()\n",
    "\n",
    "print(courses)"
   ]
  },
  {
   "cell_type": "code",
   "execution_count": 43,
   "id": "9deaa1cf",
   "metadata": {},
   "outputs": [
    {
     "name": "stdout",
     "output_type": "stream",
     "text": [
      "[5, 4, 3, 2, 1]\n"
     ]
    }
   ],
   "source": [
    "nums = [1, 5, 2, 4, 3]\n",
    "\n",
    "nums.sort(reverse = True)\n",
    "\n",
    "print(nums)"
   ]
  },
  {
   "cell_type": "code",
   "execution_count": 44,
   "id": "6f6f7c5c",
   "metadata": {},
   "outputs": [
    {
     "name": "stdout",
     "output_type": "stream",
     "text": [
      "['Art', 'Chemistry', 'CompSci', 'History', 'Physics']\n"
     ]
    }
   ],
   "source": [
    "sorted_courses = sorted(courses)\n",
    "\n",
    "print(sorted_courses)"
   ]
  },
  {
   "cell_type": "code",
   "execution_count": 46,
   "id": "008efbd4",
   "metadata": {},
   "outputs": [
    {
     "name": "stdout",
     "output_type": "stream",
     "text": [
      "Art\n",
      "History\n",
      "Physics\n"
     ]
    }
   ],
   "source": [
    "print(courses[0])\n",
    "print(courses[3])\n",
    "print(courses[-1])"
   ]
  },
  {
   "cell_type": "code",
   "execution_count": 47,
   "id": "6872779f",
   "metadata": {},
   "outputs": [
    {
     "name": "stdout",
     "output_type": "stream",
     "text": [
      "['Art', 'Chemistry']\n",
      "['Art', 'Chemistry']\n",
      "['CompSci', 'History', 'Physics']\n"
     ]
    }
   ],
   "source": [
    "#slicing\n",
    "print(courses[0:2])\n",
    "print(courses[:2])\n",
    "print(courses[2:])"
   ]
  },
  {
   "cell_type": "code",
   "execution_count": 48,
   "id": "6ac1362c",
   "metadata": {},
   "outputs": [
    {
     "name": "stdout",
     "output_type": "stream",
     "text": [
      "1\n",
      "5\n",
      "15\n"
     ]
    }
   ],
   "source": [
    "print(min(nums))\n",
    "print(max(nums))\n",
    "print(sum(nums))"
   ]
  },
  {
   "cell_type": "code",
   "execution_count": 49,
   "id": "66b75f17",
   "metadata": {},
   "outputs": [
    {
     "name": "stdout",
     "output_type": "stream",
     "text": [
      "2\n"
     ]
    }
   ],
   "source": [
    "print(courses.index('CompSci'))"
   ]
  },
  {
   "cell_type": "code",
   "execution_count": 50,
   "id": "236980d5",
   "metadata": {},
   "outputs": [
    {
     "name": "stdout",
     "output_type": "stream",
     "text": [
      "True\n"
     ]
    }
   ],
   "source": [
    "print('Art' in courses)"
   ]
  },
  {
   "cell_type": "code",
   "execution_count": 51,
   "id": "12760482",
   "metadata": {},
   "outputs": [
    {
     "name": "stdout",
     "output_type": "stream",
     "text": [
      "False\n"
     ]
    }
   ],
   "source": [
    "print('Reading' in courses)"
   ]
  },
  {
   "cell_type": "code",
   "execution_count": 52,
   "id": "bb96c2c9",
   "metadata": {},
   "outputs": [
    {
     "name": "stdout",
     "output_type": "stream",
     "text": [
      "Art\n",
      "Chemistry\n",
      "CompSci\n",
      "History\n",
      "Physics\n"
     ]
    }
   ],
   "source": [
    "for item in courses:\n",
    "    print(item)"
   ]
  },
  {
   "cell_type": "code",
   "execution_count": 53,
   "id": "23a2e00a",
   "metadata": {},
   "outputs": [
    {
     "name": "stdout",
     "output_type": "stream",
     "text": [
      "0 Art\n",
      "1 Chemistry\n",
      "2 CompSci\n",
      "3 History\n",
      "4 Physics\n"
     ]
    }
   ],
   "source": [
    "for index, item in enumerate(courses):\n",
    "    print(index, item)"
   ]
  },
  {
   "cell_type": "code",
   "execution_count": 54,
   "id": "6b59128a",
   "metadata": {},
   "outputs": [
    {
     "name": "stdout",
     "output_type": "stream",
     "text": [
      "1 Art\n",
      "2 Chemistry\n",
      "3 CompSci\n",
      "4 History\n",
      "5 Physics\n"
     ]
    }
   ],
   "source": [
    "for index, item in enumerate(courses, start = 1):\n",
    "    print(index, item)"
   ]
  },
  {
   "cell_type": "code",
   "execution_count": 56,
   "id": "853c3ded",
   "metadata": {},
   "outputs": [
    {
     "name": "stdout",
     "output_type": "stream",
     "text": [
      "Art, Chemistry, CompSci, History, Physics\n"
     ]
    }
   ],
   "source": [
    "course_str = ', '.join(courses)\n",
    "\n",
    "print(course_str)"
   ]
  },
  {
   "cell_type": "code",
   "execution_count": 58,
   "id": "1eca4e46",
   "metadata": {},
   "outputs": [
    {
     "name": "stdout",
     "output_type": "stream",
     "text": [
      "Art - Chemistry - CompSci - History - Physics\n"
     ]
    }
   ],
   "source": [
    "course_str_2 = ' - '.join(courses)\n",
    "\n",
    "print(course_str_2)"
   ]
  },
  {
   "cell_type": "code",
   "execution_count": 60,
   "id": "4a234e59",
   "metadata": {},
   "outputs": [
    {
     "name": "stdout",
     "output_type": "stream",
     "text": [
      "['Art, Chemistry, CompSci, History, Physics']\n"
     ]
    }
   ],
   "source": [
    "new_list = course_str.split(' - ')\n",
    "\n",
    "print(new_list)"
   ]
  },
  {
   "cell_type": "code",
   "execution_count": 72,
   "id": "b26fa9f9",
   "metadata": {},
   "outputs": [],
   "source": [
    "## Empty Lists\n",
    "empty_list = []\n",
    "empty_list = list()"
   ]
  },
  {
   "cell_type": "markdown",
   "id": "9db46fbe",
   "metadata": {},
   "source": [
    "### Tuples\n",
    "Values cannot be changed."
   ]
  },
  {
   "cell_type": "code",
   "execution_count": 62,
   "id": "d0fb24d6",
   "metadata": {},
   "outputs": [
    {
     "name": "stdout",
     "output_type": "stream",
     "text": [
      "['History', 'Math', 'Physics', 'CompSci']\n",
      "['History', 'Math', 'Physics', 'CompSci']\n"
     ]
    }
   ],
   "source": [
    "list_1 = ['History', 'Math', 'Physics', 'CompSci']\n",
    "list_2 = list_1\n",
    "\n",
    "print(list_1)\n",
    "print(list_2)"
   ]
  },
  {
   "cell_type": "code",
   "execution_count": 63,
   "id": "dd5713d0",
   "metadata": {},
   "outputs": [
    {
     "name": "stdout",
     "output_type": "stream",
     "text": [
      "['Art', 'Math', 'Physics', 'CompSci']\n",
      "['Art', 'Math', 'Physics', 'CompSci']\n"
     ]
    }
   ],
   "source": [
    "list_1[0] = 'Art'\n",
    "\n",
    "print(list_1)\n",
    "print(list_2)"
   ]
  },
  {
   "cell_type": "code",
   "execution_count": 64,
   "id": "58f42f20",
   "metadata": {},
   "outputs": [
    {
     "name": "stdout",
     "output_type": "stream",
     "text": [
      "('History', 'Math', 'Physics', 'CompSci')\n",
      "('History', 'Math', 'Physics', 'CompSci')\n"
     ]
    }
   ],
   "source": [
    "tuple_1 = ('History', 'Math', 'Physics', 'CompSci')\n",
    "tuple_2 = tuple_1\n",
    "\n",
    "print(tuple_1)\n",
    "print(tuple_2)"
   ]
  },
  {
   "cell_type": "code",
   "execution_count": 66,
   "id": "86256174",
   "metadata": {},
   "outputs": [],
   "source": [
    "## wont work\n",
    "## tuple_1[0] = 'Art'\n",
    "\n",
    "## print(tuple_1)\n",
    "## print(tuple_2)"
   ]
  },
  {
   "cell_type": "code",
   "execution_count": 73,
   "id": "6c0a1a7a",
   "metadata": {},
   "outputs": [],
   "source": [
    "## Empty Tuples\n",
    "empty_tuple = ()\n",
    "empty_tuple = tuple()"
   ]
  },
  {
   "cell_type": "markdown",
   "id": "8e775b0b",
   "metadata": {},
   "source": [
    "### Sets\n",
    "Don't care about order and throw away duplicates. "
   ]
  },
  {
   "cell_type": "code",
   "execution_count": 67,
   "id": "263d00b5",
   "metadata": {},
   "outputs": [
    {
     "name": "stdout",
     "output_type": "stream",
     "text": [
      "{'Physics', 'Math', 'History', 'CompSci'}\n"
     ]
    }
   ],
   "source": [
    "cs_courses = {'History', 'Math', 'Physics', 'CompSci', 'Math'}\n",
    "\n",
    "print(cs_courses)"
   ]
  },
  {
   "cell_type": "code",
   "execution_count": 68,
   "id": "5d1fcdf6",
   "metadata": {},
   "outputs": [
    {
     "name": "stdout",
     "output_type": "stream",
     "text": [
      "True\n"
     ]
    }
   ],
   "source": [
    "print('Math' in cs_courses)"
   ]
  },
  {
   "cell_type": "code",
   "execution_count": 71,
   "id": "c82b8570",
   "metadata": {},
   "outputs": [
    {
     "name": "stdout",
     "output_type": "stream",
     "text": [
      "{'Math', 'History'}\n",
      "{'Physics', 'CompSci'}\n",
      "{'Math', 'History', 'CompSci', 'Physics', 'Design', 'Art'}\n"
     ]
    }
   ],
   "source": [
    "cs_courses_1 = {'History', 'Math', 'Physics', 'CompSci'}\n",
    "art_courses_1 = {'History', 'Math', 'Art', 'Design'}\n",
    "\n",
    "print(cs_courses_1.intersection(art_courses_1))\n",
    "print(cs_courses_1.difference(art_courses_1))\n",
    "print(cs_courses_1.union(art_courses_1))"
   ]
  },
  {
   "cell_type": "code",
   "execution_count": 74,
   "id": "13310053",
   "metadata": {},
   "outputs": [],
   "source": [
    "## Empty Sets\n",
    "empty_set = {} # This isn't right! It's a dict\n",
    "empty_set = set()"
   ]
  },
  {
   "cell_type": "markdown",
   "id": "80c183d1",
   "metadata": {},
   "source": [
    "### Dictionaries"
   ]
  },
  {
   "cell_type": "code",
   "execution_count": 94,
   "id": "213da728",
   "metadata": {},
   "outputs": [
    {
     "name": "stdout",
     "output_type": "stream",
     "text": [
      "{'name': 'John', 'age': 25, 'courses': ['Math', 'CompSci']}\n"
     ]
    }
   ],
   "source": [
    "student = {'name': 'John', 'age': 25, 'courses': ['Math', 'CompSci']}\n",
    "\n",
    "print(student)"
   ]
  },
  {
   "cell_type": "code",
   "execution_count": 76,
   "id": "cfe878c4",
   "metadata": {},
   "outputs": [
    {
     "name": "stdout",
     "output_type": "stream",
     "text": [
      "John\n"
     ]
    }
   ],
   "source": [
    "print(student['name'])"
   ]
  },
  {
   "cell_type": "code",
   "execution_count": 77,
   "id": "6cad838f",
   "metadata": {},
   "outputs": [
    {
     "name": "stdout",
     "output_type": "stream",
     "text": [
      "['Math', 'CompSci']\n"
     ]
    }
   ],
   "source": [
    "print(student['courses'])"
   ]
  },
  {
   "cell_type": "code",
   "execution_count": 78,
   "id": "aa89d85c",
   "metadata": {},
   "outputs": [
    {
     "name": "stdout",
     "output_type": "stream",
     "text": [
      "John\n"
     ]
    }
   ],
   "source": [
    "print(student.get('name'))"
   ]
  },
  {
   "cell_type": "code",
   "execution_count": 80,
   "id": "95791558",
   "metadata": {},
   "outputs": [
    {
     "name": "stdout",
     "output_type": "stream",
     "text": [
      "Not Found\n"
     ]
    }
   ],
   "source": [
    "print(student.get('phone', 'Not Found'))"
   ]
  },
  {
   "cell_type": "code",
   "execution_count": 83,
   "id": "10a0c0e7",
   "metadata": {},
   "outputs": [
    {
     "name": "stdout",
     "output_type": "stream",
     "text": [
      "{'name': 'Jane', 'age': 25, 'courses': ['Math', 'CompSci'], 'phone': '555-5555'}\n"
     ]
    }
   ],
   "source": [
    "student['phone'] = '555-5555'\n",
    "student['name'] = 'Jane'\n",
    "\n",
    "print(student)"
   ]
  },
  {
   "cell_type": "code",
   "execution_count": 85,
   "id": "812684b4",
   "metadata": {},
   "outputs": [
    {
     "name": "stdout",
     "output_type": "stream",
     "text": [
      "{'name': 'John', 'age': 13, 'courses': ['Math', 'CompSci'], 'phone': '555-5555'}\n"
     ]
    }
   ],
   "source": [
    "student.update({'name': 'John', 'age': 13})\n",
    "\n",
    "print(student)"
   ]
  },
  {
   "cell_type": "code",
   "execution_count": 95,
   "id": "208b9f06",
   "metadata": {},
   "outputs": [
    {
     "name": "stdout",
     "output_type": "stream",
     "text": [
      "{'age': 25, 'courses': ['Math', 'CompSci']}\n"
     ]
    }
   ],
   "source": [
    "del student['name']\n",
    "\n",
    "print(student)"
   ]
  },
  {
   "cell_type": "code",
   "execution_count": 96,
   "id": "94d48f7a",
   "metadata": {},
   "outputs": [
    {
     "name": "stdout",
     "output_type": "stream",
     "text": [
      "{'courses': ['Math', 'CompSci']}\n",
      "25\n"
     ]
    }
   ],
   "source": [
    "age = student.pop('age')\n",
    "\n",
    "print(student)\n",
    "print(age)"
   ]
  },
  {
   "cell_type": "code",
   "execution_count": 97,
   "id": "2c55a041",
   "metadata": {},
   "outputs": [
    {
     "name": "stdout",
     "output_type": "stream",
     "text": [
      "1\n"
     ]
    }
   ],
   "source": [
    "print(len(student))"
   ]
  },
  {
   "cell_type": "code",
   "execution_count": 99,
   "id": "16cf2eaf",
   "metadata": {},
   "outputs": [
    {
     "name": "stdout",
     "output_type": "stream",
     "text": [
      "dict_keys(['courses'])\n"
     ]
    }
   ],
   "source": [
    "print(student.keys())"
   ]
  },
  {
   "cell_type": "code",
   "execution_count": 100,
   "id": "b76b1540",
   "metadata": {},
   "outputs": [
    {
     "name": "stdout",
     "output_type": "stream",
     "text": [
      "dict_values([['Math', 'CompSci']])\n"
     ]
    }
   ],
   "source": [
    "print(student.values())"
   ]
  },
  {
   "cell_type": "code",
   "execution_count": 101,
   "id": "1c78ddff",
   "metadata": {},
   "outputs": [
    {
     "name": "stdout",
     "output_type": "stream",
     "text": [
      "dict_items([('courses', ['Math', 'CompSci'])])\n"
     ]
    }
   ],
   "source": [
    "print(student.items())"
   ]
  },
  {
   "cell_type": "code",
   "execution_count": 102,
   "id": "37d9bd92",
   "metadata": {},
   "outputs": [
    {
     "name": "stdout",
     "output_type": "stream",
     "text": [
      "courses\n"
     ]
    }
   ],
   "source": [
    "for key in student:\n",
    "    print(key)"
   ]
  },
  {
   "cell_type": "code",
   "execution_count": 104,
   "id": "3c02eee8",
   "metadata": {},
   "outputs": [
    {
     "name": "stdout",
     "output_type": "stream",
     "text": [
      "courses ['Math', 'CompSci']\n"
     ]
    }
   ],
   "source": [
    "for key, value in student.items():\n",
    "    print(key, value)"
   ]
  },
  {
   "cell_type": "code",
   "execution_count": null,
   "id": "696db495",
   "metadata": {},
   "outputs": [],
   "source": []
  }
 ],
 "metadata": {
  "kernelspec": {
   "display_name": "Python 3 (ipykernel)",
   "language": "python",
   "name": "python3"
  },
  "language_info": {
   "codemirror_mode": {
    "name": "ipython",
    "version": 3
   },
   "file_extension": ".py",
   "mimetype": "text/x-python",
   "name": "python",
   "nbconvert_exporter": "python",
   "pygments_lexer": "ipython3",
   "version": "3.11.4"
  }
 },
 "nbformat": 4,
 "nbformat_minor": 5
}

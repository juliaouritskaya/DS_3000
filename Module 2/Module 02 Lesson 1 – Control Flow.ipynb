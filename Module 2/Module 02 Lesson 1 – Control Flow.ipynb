{
 "cells": [
  {
   "cell_type": "markdown",
   "id": "e35696e1",
   "metadata": {},
   "source": [
    "# Control Flow"
   ]
  },
  {
   "cell_type": "markdown",
   "id": "315b7d32",
   "metadata": {},
   "source": [
    "We can use the following techniques to control the flow (i.e. the order of execution) of our programs:\n",
    "1. [Sequential statements](#sequential)\n",
    "2. [Selection statements](#selection)\n",
    "3. [Iterative statements](#iterative)"
   ]
  },
  {
   "cell_type": "markdown",
   "id": "17aab16e",
   "metadata": {},
   "source": [
    "<a id='sequential'></a>\n",
    "## 1. Sequential statements\n",
    "The python code executes sequentially until it terminates. "
   ]
  },
  {
   "cell_type": "code",
   "execution_count": 13,
   "id": "b8763560",
   "metadata": {},
   "outputs": [
    {
     "name": "stdout",
     "output_type": "stream",
     "text": [
      "Congrats  Jane  you scored  97  on the course.\n"
     ]
    }
   ],
   "source": [
    "student_name = 'Jane'\n",
    "exam_score = 92\n",
    "bonus_points = 5\n",
    "final_grade = exam_score + bonus_points\n",
    "print('Congrats ', student_name, ' you scored ', final_grade, ' on the course.')"
   ]
  },
  {
   "cell_type": "markdown",
   "id": "ddd9ba9a",
   "metadata": {},
   "source": [
    "<a id='selection'></a>\n",
    "## 2. Selection statements\n",
    "Selection statements select which code should be executed when a condition is either `True` or `False`. Python provides three ways to write these statements using the following: `if`, `elif` and `else` keywords.\n",
    "\n",
    "### 2.1 if statements\n",
    "The syntax for `if` statement:\n",
    "\n",
    "<span style=\"font-family:monospace; margin-left:20px; display:block;\">if <span style=\"color:green;\">condition</span>:</span>\n",
    "<span style=\"font-family:monospace; margin-left:60px; display:block;\">statement</span>"
   ]
  },
  {
   "cell_type": "code",
   "execution_count": 8,
   "id": "7ebaafba",
   "metadata": {},
   "outputs": [],
   "source": [
    "if final_grade > 90:\n",
    "    #if the conditionx is True\n",
    "    print('You got an A!')"
   ]
  },
  {
   "cell_type": "code",
   "execution_count": 15,
   "id": "e91fa356",
   "metadata": {},
   "outputs": [
    {
     "name": "stdout",
     "output_type": "stream",
     "text": [
      "You got an A!\n",
      "Congrats!\n"
     ]
    }
   ],
   "source": [
    "if final_grade > 90:\n",
    "    #if the condition is True\n",
    "    print('You got an A!')\n",
    "    print('Congrats!')"
   ]
  },
  {
   "cell_type": "code",
   "execution_count": 19,
   "id": "cd9638c0",
   "metadata": {},
   "outputs": [
    {
     "name": "stdout",
     "output_type": "stream",
     "text": [
      "Hello  John  you scored  89  on the course.\n",
      "Goodbye!\n"
     ]
    }
   ],
   "source": [
    "student_2_name = 'John'\n",
    "student_2_exam_score = 88\n",
    "student_2_bonus_points = 1\n",
    "student_2_final_grade = student_2_exam_score + student_2_bonus_points\n",
    "print('Hello ', student_2_name, ' you scored ', student_2_final_grade, ' on the course.')\n",
    "\n",
    "if student_2_final_grade > 90:\n",
    "    print('You got an A!')\n",
    "    print('Congrats!')\n",
    "    \n",
    "#this code is outside the scope of the if statement\n",
    "print('Goodbye!')"
   ]
  },
  {
   "cell_type": "markdown",
   "id": "feb62267",
   "metadata": {},
   "source": [
    "### 2.2 if...else statements\n",
    "If...else statements perform a certain task when the condition is True or performs an alternative task when the condition is False.\n",
    "\n",
    "The syntax for `if...else` statements:\n",
    "\n",
    "<span style=\"font-family:monospace; margin-left:20px; display:block;\">if <span style=\"color:green;\">condition</span>:</span>\n",
    "<span style=\"font-family:monospace; margin-left:60px; display:block;\">statement</span>\n",
    "<span style=\"font-family:monospace; margin-left:20px; display:block;\">else<span style=\"color:green;\"></span>:</span>\n",
    "<span style=\"font-family:monospace; margin-left:60px; display:block;\">statement</span>"
   ]
  },
  {
   "cell_type": "code",
   "execution_count": 22,
   "id": "84d0d4d3",
   "metadata": {},
   "outputs": [
    {
     "name": "stdout",
     "output_type": "stream",
     "text": [
      "You did not get an A.\n",
      "Goodbye\n"
     ]
    }
   ],
   "source": [
    "#check if the final grade is greater than 90\n",
    "if student_2_final_grade > 90:\n",
    "    print('You got an A!')\n",
    "    print('Congrats!')\n",
    "else:\n",
    "    #run the following code if the final grade is less than or equal to 90\n",
    "    print('You did not get an A.')\n",
    "    \n",
    "print('Goodbye')"
   ]
  },
  {
   "cell_type": "markdown",
   "id": "52da4a31",
   "metadata": {},
   "source": [
    "### 2.3 if...elif...else statements\n",
    "If...elif...else statements allow us to create dynamic code that checks for multiple conditions and executes the book of code that pertains to the condition thats True.\n",
    "\n",
    "The syntax for `if...elif...else` statements:\n",
    "\n",
    "<span style=\"font-family:monospace; margin-left:20px; display:block;\"><span style=\"color:green;\">if</span> condition:</span>\n",
    "<span style=\"font-family:monospace; margin-left:60px; display:block;\">statement</span>\n",
    "<span style=\"font-family:monospace; margin-left:20px; display:block;\"><span style=\"color:green;\">elif</span> condition:</span>\n",
    "<span style=\"font-family:monospace; margin-left:60px; display:block;\">statement</span>\n",
    "<span style=\"font-family:monospace; margin-left:20px; display:block;\"><span style=\"color:green;\">else</span>:</span>\n",
    "<span style=\"font-family:monospace; margin-left:60px; display:block;\">statement</span>\n"
   ]
  },
  {
   "cell_type": "code",
   "execution_count": 23,
   "id": "ca18dba6",
   "metadata": {},
   "outputs": [
    {
     "name": "stdout",
     "output_type": "stream",
     "text": [
      "You got a B\n"
     ]
    }
   ],
   "source": [
    "if student_2_final_grade > 90:\n",
    "    print('You got an A!')\n",
    "    print('Congrats!')\n",
    "    \n",
    "elif student_2_final_grade > 80 and student_2_final_grade <= 90:\n",
    "    print('You got a B')\n",
    "    \n",
    "elif student_2_final_grade >= 70 and student_2_final_grade <= 80:\n",
    "    print('You got a C')\n",
    "    \n",
    "else:\n",
    "    print('You got an F') \n",
    "    print('You must take the course again.')"
   ]
  },
  {
   "cell_type": "markdown",
   "id": "ca5e4b36",
   "metadata": {},
   "source": [
    "<a id='iterative'></a>\n",
    "## 3. Iterative statements\n",
    "Iterative statements are used to execute blocks of code repetitively, for a fixed number of steps or until a predefined condition is no longer true.\n",
    "\n",
    "### 3.1 While Loops\n",
    "The syntax of a `while` statement:\n",
    "\n",
    "<span style=\"font-family:monospace; margin-left:20px; display:block;\"><span style=\"color:green;\">while</span> condition:</span>\n",
    "<span style=\"font-family:monospace; margin-left:60px; display:block;\">statement</span>\n"
   ]
  },
  {
   "cell_type": "code",
   "execution_count": 24,
   "id": "a7a3bc5e",
   "metadata": {},
   "outputs": [
    {
     "name": "stdout",
     "output_type": "stream",
     "text": [
      "1\n",
      "2\n",
      "3\n",
      "4\n",
      "5\n"
     ]
    }
   ],
   "source": [
    "#initial value\n",
    "i = 1\n",
    "\n",
    "#condition\n",
    "while i <= 5:\n",
    "    #inside the loop, when the condition is True\n",
    "    print(i)\n",
    "    i = i + 1"
   ]
  },
  {
   "cell_type": "markdown",
   "id": "8c62cb62",
   "metadata": {},
   "source": [
    "### 3.2 For Loops\n",
    "The syntax of a `for` loop:\n",
    "\n",
    "<span style=\"font-family:monospace; margin-left:20px; display:block;\"><span style=\"color:green;\">for</span> value <span style=\"color:green;\">in</span> sequence:</span>\n",
    "<span style=\"font-family:monospace; margin-left:60px; display:block;\">statement</span>\n"
   ]
  },
  {
   "cell_type": "code",
   "execution_count": 25,
   "id": "ed8905c5",
   "metadata": {},
   "outputs": [
    {
     "name": "stdout",
     "output_type": "stream",
     "text": [
      "J\n",
      "a\n",
      "n\n",
      "e\n"
     ]
    }
   ],
   "source": [
    "student_name = 'Jane'\n",
    "\n",
    "for letter in student_name:\n",
    "    print(letter)"
   ]
  },
  {
   "cell_type": "code",
   "execution_count": 31,
   "id": "a1ed71f6",
   "metadata": {},
   "outputs": [
    {
     "name": "stdout",
     "output_type": "stream",
     "text": [
      "1\n",
      "2\n",
      "3\n",
      "4\n",
      "5\n",
      "6\n",
      "7\n",
      "8\n",
      "9\n"
     ]
    }
   ],
   "source": [
    "for item in range(1,10):\n",
    "    print(item)"
   ]
  },
  {
   "cell_type": "code",
   "execution_count": 29,
   "id": "9750b9f6",
   "metadata": {},
   "outputs": [
    {
     "name": "stdout",
     "output_type": "stream",
     "text": [
      "2\n",
      "4\n",
      "6\n",
      "8\n",
      "10\n",
      "12\n",
      "14\n",
      "16\n",
      "18\n",
      "20\n",
      "22\n",
      "24\n"
     ]
    }
   ],
   "source": [
    "for value in range(1,25):\n",
    "    if value % 2 == 0:\n",
    "        print(value)"
   ]
  },
  {
   "cell_type": "code",
   "execution_count": 30,
   "id": "35be0abb",
   "metadata": {},
   "outputs": [
    {
     "name": "stdout",
     "output_type": "stream",
     "text": [
      "2\n",
      "4\n",
      "6\n",
      "8\n",
      "10\n",
      "12\n",
      "14\n",
      "16\n",
      "18\n",
      "20\n",
      "22\n",
      "24\n"
     ]
    }
   ],
   "source": [
    "for value in range(2, 25, 2):\n",
    "    print(value)"
   ]
  },
  {
   "cell_type": "code",
   "execution_count": null,
   "id": "14ec78a7",
   "metadata": {},
   "outputs": [],
   "source": []
  }
 ],
 "metadata": {
  "kernelspec": {
   "display_name": "Python 3 (ipykernel)",
   "language": "python",
   "name": "python3"
  },
  "language_info": {
   "codemirror_mode": {
    "name": "ipython",
    "version": 3
   },
   "file_extension": ".py",
   "mimetype": "text/x-python",
   "name": "python",
   "nbconvert_exporter": "python",
   "pygments_lexer": "ipython3",
   "version": "3.11.4"
  }
 },
 "nbformat": 4,
 "nbformat_minor": 5
}

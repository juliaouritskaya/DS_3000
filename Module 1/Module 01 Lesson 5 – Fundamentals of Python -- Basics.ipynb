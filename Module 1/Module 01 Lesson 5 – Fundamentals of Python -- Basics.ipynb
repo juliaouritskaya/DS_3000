{
 "cells": [
  {
   "cell_type": "markdown",
   "id": "e35696e1",
   "metadata": {},
   "source": [
    "# Python Basics"
   ]
  },
  {
   "cell_type": "markdown",
   "id": "315b7d32",
   "metadata": {},
   "source": [
    "This notebook covers a few Python basics:\n",
    "\n",
    "1. [Variables](#variables)\n",
    "2. [Arithmetic Operators](#arithmeticOperators)\n",
    "3. [Logical Operators](#logicalOperators)\n",
    "4. [Keywords](#keywords)\n",
    "\n",
    "**Tip**: It is a good practice to add comments to your code. Comments are helpful to explain your logic to other programmers. The '#' symbol is used to create a comment. You can create a comment before a line of code (i.e. the previous line) or at the end of a line of code. Comments are visible to other programmers. "
   ]
  },
  {
   "cell_type": "markdown",
   "id": "17aab16e",
   "metadata": {},
   "source": [
    "<a id='variables'></a>\n",
    "## 1. Variables\n",
    "Variables are declared and their purpose is to store data. Variables can store different types of data, e.g. text/strings, numbers, dates, etc.\n",
    "\n",
    "When declaring variables, its name should follow these rules:\n",
    "- they can contain letters, numbers, and underscores.\n",
    "- they should not start with a number or include spaces.\n",
    "- they are case sensitive.\n",
    "- they should not contain special characters, except the underscore."
   ]
  },
  {
   "cell_type": "code",
   "execution_count": 5,
   "id": "b8763560",
   "metadata": {},
   "outputs": [
    {
     "name": "stdout",
     "output_type": "stream",
     "text": [
      "Jane\n"
     ]
    }
   ],
   "source": [
    "#Create a variable to store the name of a student\n",
    "student_name = \"Jane\" \n",
    "print(student_name)"
   ]
  },
  {
   "cell_type": "code",
   "execution_count": 6,
   "id": "edd98847",
   "metadata": {},
   "outputs": [],
   "source": [
    "student_age = 25\n",
    "student_gpa = 3.9\n",
    "cs_major = True"
   ]
  },
  {
   "cell_type": "code",
   "execution_count": 8,
   "id": "a81fb991",
   "metadata": {},
   "outputs": [
    {
     "data": {
      "text/plain": [
       "bool"
      ]
     },
     "execution_count": 8,
     "metadata": {},
     "output_type": "execute_result"
    }
   ],
   "source": [
    "type(student_name)\n",
    "type(student_age)\n",
    "type(student_gpa)\n",
    "type(cs_major)"
   ]
  },
  {
   "cell_type": "code",
   "execution_count": 9,
   "id": "e7089cfd",
   "metadata": {},
   "outputs": [
    {
     "name": "stdout",
     "output_type": "stream",
     "text": [
      "10\n"
     ]
    }
   ],
   "source": [
    "num1 = 4\n",
    "num2 = 6\n",
    "print(num1+num2)"
   ]
  },
  {
   "cell_type": "code",
   "execution_count": 12,
   "id": "315ca1d6",
   "metadata": {},
   "outputs": [
    {
     "name": "stdout",
     "output_type": "stream",
     "text": [
      "hellojohn\n"
     ]
    }
   ],
   "source": [
    "str1 = 'hello'\n",
    "str2 = 'john'\n",
    "print(str1 + str2)"
   ]
  },
  {
   "cell_type": "code",
   "execution_count": 13,
   "id": "633ee8b6",
   "metadata": {},
   "outputs": [],
   "source": [
    "#Example of a variable name thats not meaningful\n",
    "var = 'Jane Black'\n",
    "\n",
    "#Example of a meaningful variable name\n",
    "fullname = 'Jane Black'"
   ]
  },
  {
   "cell_type": "markdown",
   "id": "f2bf68be",
   "metadata": {},
   "source": [
    "<a id='arithmeticOperators'></a>\n",
    "## 1. Arithmetic Operators\n",
    "| **Operation** | **Arithmetic Operator** | **Python Expression** |\n",
    "|:----------|:----------:|:----------:|\n",
    "| Addition | + | 1 + 3 |\n",
    "| Subtraction | - | 4 - 2 |\n",
    "| Multiplication | * | 2 * 3 |\n",
    "| Exponentiation | ** | 4 ** 2 |\n",
    "| True Division | / | 10 / 2 |\n",
    "| Floor Division | // | 10 // 3 |\n",
    "| Remainder | % | 10 % 3 |"
   ]
  },
  {
   "cell_type": "code",
   "execution_count": 14,
   "id": "4bf5b925",
   "metadata": {},
   "outputs": [
    {
     "name": "stdout",
     "output_type": "stream",
     "text": [
      "97\n"
     ]
    }
   ],
   "source": [
    "exam_score = 92\n",
    "bonus_points = 5\n",
    "final_grade = exam_score + bonus_points\n",
    "print(final_grade)"
   ]
  },
  {
   "cell_type": "markdown",
   "id": "713d8908",
   "metadata": {},
   "source": [
    "<a id='logicalOperators'></a>\n",
    "## 3. Comparison & Boolean Operators\n",
    "\n",
    "### 3.1 Comparison Operators\n",
    "Comparison operators are used to compare values in a python expression and determine if the entire expression is True or False.\n",
    "| **Algebraic Operator** | **Python Operator** | **Example Expression** | **Meaning** |\n",
    "|:----------|:----------|:----------|:----------|\n",
    "| >     | >     | x > y     | x is greater than y     |\n",
    "| <     | <     | x < y     | x is less than y     |\n",
    "| ≥     | >=     | x >= y     | x is greater than or equal to y     |\n",
    "| ≤     | <=     | x <= y     | x is less than or equal to y     |\n",
    "| =     | ==     | x == y     | x is equal to y     |\n",
    "| ≠     | !=     | x != y     | x is not equal to y     |\n",
    "- Operators >, <, >= and <= have the same precedence\n",
    "- Operators == and != have the same precedence, which is lower than >, <, >= and <=\n",
    "\n",
    "### 3.2 Boolean Operators\n",
    "Boolean operators are used to combine two or more boolean expressions to determine if the entire expression is True or False.\n",
    "\n",
    "|         |         |\n",
    "|:---------|:---------|\n",
    "| **and**    | returns True if both expressions are True, otherwise it returns False    |\n",
    "| **or**    | returns True if at least one expressions is True, otherwise it returns False    |\n",
    "| **not**    | returns the inverse of the boolean result   |\n"
   ]
  },
  {
   "cell_type": "code",
   "execution_count": 16,
   "id": "9dacba71",
   "metadata": {},
   "outputs": [
    {
     "name": "stdout",
     "output_type": "stream",
     "text": [
      "False\n",
      "True\n",
      "False\n"
     ]
    }
   ],
   "source": [
    "#Check if the final grade is less than 90\n",
    "print(final_grade < 90)\n",
    "print(final_grade >= 95)\n",
    "print(final_grade == 100)"
   ]
  },
  {
   "cell_type": "code",
   "execution_count": 24,
   "id": "8656ffca",
   "metadata": {},
   "outputs": [
    {
     "data": {
      "text/plain": [
       "False"
      ]
     },
     "execution_count": 24,
     "metadata": {},
     "output_type": "execute_result"
    }
   ],
   "source": [
    "student_name == 'John' and final_grade > 95"
   ]
  },
  {
   "cell_type": "code",
   "execution_count": 23,
   "id": "79f9eb1c",
   "metadata": {},
   "outputs": [
    {
     "data": {
      "text/plain": [
       "True"
      ]
     },
     "execution_count": 23,
     "metadata": {},
     "output_type": "execute_result"
    }
   ],
   "source": [
    "student_name == 'John' or final_grade > 95"
   ]
  },
  {
   "cell_type": "code",
   "execution_count": 25,
   "id": "186476ac",
   "metadata": {},
   "outputs": [
    {
     "data": {
      "text/plain": [
       "True"
      ]
     },
     "execution_count": 25,
     "metadata": {},
     "output_type": "execute_result"
    }
   ],
   "source": [
    "final_grade >= 50"
   ]
  },
  {
   "cell_type": "code",
   "execution_count": 26,
   "id": "23220d1f",
   "metadata": {},
   "outputs": [
    {
     "data": {
      "text/plain": [
       "False"
      ]
     },
     "execution_count": 26,
     "metadata": {},
     "output_type": "execute_result"
    }
   ],
   "source": [
    "not final_grade >= 50"
   ]
  },
  {
   "cell_type": "code",
   "execution_count": null,
   "id": "0e79cfe7",
   "metadata": {},
   "outputs": [],
   "source": []
  }
 ],
 "metadata": {
  "kernelspec": {
   "display_name": "Python 3 (ipykernel)",
   "language": "python",
   "name": "python3"
  },
  "language_info": {
   "codemirror_mode": {
    "name": "ipython",
    "version": 3
   },
   "file_extension": ".py",
   "mimetype": "text/x-python",
   "name": "python",
   "nbconvert_exporter": "python",
   "pygments_lexer": "ipython3",
   "version": "3.11.4"
  }
 },
 "nbformat": 4,
 "nbformat_minor": 5
}

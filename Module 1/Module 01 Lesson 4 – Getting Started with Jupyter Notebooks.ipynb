{
 "cells": [
  {
   "cell_type": "markdown",
   "id": "70d1181e",
   "metadata": {},
   "source": [
    "# Getting Started with Python and Jupiter Notebook\n",
    "This lesson is a brief introduction to Python and Jupyter Notebooks. We will discuss how to:\n",
    "- display messages to the screen\n",
    "- use the notebook as a calculator\n",
    "- get input from the user"
   ]
  },
  {
   "cell_type": "markdown",
   "id": "74bfe439",
   "metadata": {},
   "source": [
    "## Display Messages to the Screen"
   ]
  },
  {
   "cell_type": "code",
   "execution_count": 1,
   "id": "92f77850",
   "metadata": {},
   "outputs": [
    {
     "name": "stdout",
     "output_type": "stream",
     "text": [
      "Hello World\n"
     ]
    }
   ],
   "source": [
    "print('Hello World')"
   ]
  },
  {
   "cell_type": "code",
   "execution_count": 2,
   "id": "fc164a3d",
   "metadata": {},
   "outputs": [
    {
     "name": "stdout",
     "output_type": "stream",
     "text": [
      "Hello World\n"
     ]
    }
   ],
   "source": [
    "print(\"Hello World\")"
   ]
  },
  {
   "cell_type": "markdown",
   "id": "b239a73e",
   "metadata": {},
   "source": [
    "## Use the Notebook as a Calculator"
   ]
  },
  {
   "cell_type": "code",
   "execution_count": 9,
   "id": "51a604f3",
   "metadata": {},
   "outputs": [
    {
     "name": "stdout",
     "output_type": "stream",
     "text": [
      "4\n",
      "-2.2857142857142856\n"
     ]
    }
   ],
   "source": [
    "print(2+2)\n",
    "\n",
    "print(2 + (2 - 5) * 10 / 7)"
   ]
  },
  {
   "cell_type": "markdown",
   "id": "6d4e4d6f",
   "metadata": {},
   "source": [
    "## Getting Input From the User"
   ]
  },
  {
   "cell_type": "code",
   "execution_count": 10,
   "id": "e20b75ae",
   "metadata": {},
   "outputs": [
    {
     "name": "stdout",
     "output_type": "stream",
     "text": [
      "What is your name?Jane\n"
     ]
    },
    {
     "data": {
      "text/plain": [
       "'Jane'"
      ]
     },
     "execution_count": 10,
     "metadata": {},
     "output_type": "execute_result"
    }
   ],
   "source": [
    "input(\"What is your name?\")"
   ]
  },
  {
   "cell_type": "code",
   "execution_count": 11,
   "id": "c2a970ec",
   "metadata": {},
   "outputs": [
    {
     "name": "stdout",
     "output_type": "stream",
     "text": [
      "What is your name?Mary\n"
     ]
    }
   ],
   "source": [
    "user = input(\"What is your name?\")"
   ]
  },
  {
   "cell_type": "code",
   "execution_count": 13,
   "id": "daed6ec2",
   "metadata": {},
   "outputs": [
    {
     "name": "stdout",
     "output_type": "stream",
     "text": [
      "Hello Mary\n"
     ]
    }
   ],
   "source": [
    "print(\"Hello\", user)"
   ]
  },
  {
   "cell_type": "code",
   "execution_count": 21,
   "id": "ccebcc05",
   "metadata": {},
   "outputs": [
    {
     "name": "stdout",
     "output_type": "stream",
     "text": [
      "46\n"
     ]
    }
   ],
   "source": [
    "birth_year = int(birth)\n",
    "death_year = int(death)\n",
    "\n",
    "age = death_year - birth_year\n",
    "print(age)"
   ]
  },
  {
   "cell_type": "code",
   "execution_count": 22,
   "id": "b2772745",
   "metadata": {},
   "outputs": [
    {
     "name": "stdout",
     "output_type": "stream",
     "text": [
      "JK was 46 when he died.\n"
     ]
    }
   ],
   "source": [
    "birth_year = int(birth)\n",
    "death_year = int(death)\n",
    "\n",
    "age = death_year - birth_year\n",
    "print(\"JK was\", age, \"when he died.\")"
   ]
  },
  {
   "cell_type": "code",
   "execution_count": null,
   "id": "e8999499",
   "metadata": {},
   "outputs": [],
   "source": []
  }
 ],
 "metadata": {
  "kernelspec": {
   "display_name": "Python 3 (ipykernel)",
   "language": "python",
   "name": "python3"
  },
  "language_info": {
   "codemirror_mode": {
    "name": "ipython",
    "version": 3
   },
   "file_extension": ".py",
   "mimetype": "text/x-python",
   "name": "python",
   "nbconvert_exporter": "python",
   "pygments_lexer": "ipython3",
   "version": "3.11.4"
  }
 },
 "nbformat": 4,
 "nbformat_minor": 5
}

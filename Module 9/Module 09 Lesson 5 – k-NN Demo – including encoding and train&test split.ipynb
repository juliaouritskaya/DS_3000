{
 "cells": [
  {
   "cell_type": "markdown",
   "id": "317b41d8",
   "metadata": {},
   "source": [
    "# Sklearn – k-NN Demo"
   ]
  },
  {
   "cell_type": "code",
   "execution_count": 1,
   "id": "76a7b8e8",
   "metadata": {},
   "outputs": [
    {
     "name": "stdout",
     "output_type": "stream",
     "text": [
      "The predicted BMI is: [4 5 4 2 0 5 5 4 4 5 2 3 4 4 5 4 3 4 4 2 2 2 4 4 2 5 2 2 4 4 5 2 2 4 5 5 4\n",
      " 4 5 5 2 4 5 5 2 5 5 5 0 5 2 4 5 3 3 2 5 5 1 5 4 5 4 4 4 5 5 4 3 1 5 5 4 4\n",
      " 5 1 5 2 5 5 3 4 4 5 5 5 4 3 5 4 4 4 3 4 5 2 4 5 1 5 2 5 3 5 1 3 5 1 5 4 5\n",
      " 5 0 3 1 4 4 4 2 1 3 5 5 5 4 4 3 5 5 5 5 5 5 5 3 4 5 5 3 4 4 5 4 3 4 4 2 5\n",
      " 5 3]\n"
     ]
    }
   ],
   "source": [
    "import pandas as pd\n",
    "import numpy as np\n",
    "from sklearn.neighbors import KNeighborsClassifier\n",
    "from sklearn.model_selection import train_test_split\n",
    "\n",
    "df = pd.read_csv('BMI_data.csv')\n",
    "\n",
    "# encode the categorical feature\n",
    "df = pd.get_dummies(df, drop_first=True) # drop one of the encoded gender columns\n",
    "\n",
    "X = df[['Height', 'Weight', 'Gender_Male']] # get the input features\n",
    "y = df['Index'] # get the target\n",
    "\n",
    "X_train, X_test, y_train, y_test = train_test_split(X,              # the input features\n",
    "                                                    y,              # the label\n",
    "                                                    test_size=0.3,  # set aside 30% of the data as the test set\n",
    "                                                    random_state=7, # reproduce the results\n",
    "                                                    stratify=y      # preserve the distribution of the labels\n",
    "                                                   )\n",
    "\n",
    "knn = KNeighborsClassifier(n_neighbors = 5) # initialize the classifier and set the number of neighbors\n",
    "knn.fit(X_train, y_train)\n",
    "\n",
    "# predict the labels for the test set\n",
    "y_pred = knn.predict(X_test)\n",
    "\n",
    "print('The predicted BMI is: {}'.format(y_pred)) # show the predictions"
   ]
  },
  {
   "cell_type": "code",
   "execution_count": 2,
   "id": "6dc1e32e",
   "metadata": {},
   "outputs": [
    {
     "name": "stdout",
     "output_type": "stream",
     "text": [
      "The accuracy of the model is: 0.86\n"
     ]
    }
   ],
   "source": [
    "print('The accuracy of the model is: {}'.format(knn.score(X_test, y_test)))"
   ]
  },
  {
   "cell_type": "code",
   "execution_count": null,
   "id": "0b4580b5",
   "metadata": {},
   "outputs": [],
   "source": []
  }
 ],
 "metadata": {
  "kernelspec": {
   "display_name": "Python 3 (ipykernel)",
   "language": "python",
   "name": "python3"
  },
  "language_info": {
   "codemirror_mode": {
    "name": "ipython",
    "version": 3
   },
   "file_extension": ".py",
   "mimetype": "text/x-python",
   "name": "python",
   "nbconvert_exporter": "python",
   "pygments_lexer": "ipython3",
   "version": "3.11.4"
  }
 },
 "nbformat": 4,
 "nbformat_minor": 5
}

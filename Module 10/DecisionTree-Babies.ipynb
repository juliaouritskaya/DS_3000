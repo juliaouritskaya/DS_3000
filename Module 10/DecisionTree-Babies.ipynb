{
 "cells": [
  {
   "cell_type": "markdown",
   "metadata": {},
   "source": [
    "# Decision Tree Regression\n",
    "\n",
    "In this notebook, we will demonstrate how to build a decision tree regression model to predict the birthtweight of babies using the [US births 2014](https://www.openintro.org/data/index.php?data=births14) dataset.\n",
    "\n",
    "`Note`: remember the first step is EDA. Even though its not performed in this notebook doesn’t imply that it isn’t needed. The EDA was excluded to focus on the ML task."
   ]
  },
  {
   "cell_type": "code",
   "execution_count": 1,
   "metadata": {},
   "outputs": [],
   "source": [
    "import pandas as pd\n",
    "import numpy as np\n",
    "from sklearn.tree import DecisionTreeRegressor\n",
    "from sklearn.model_selection import train_test_split\n",
    "from sklearn.metrics import mean_squared_error\n",
    "import matplotlib.pyplot as plt\n",
    "import seaborn as sns\n",
    "sns.set_style('darkgrid')"
   ]
  },
  {
   "cell_type": "code",
   "execution_count": 2,
   "metadata": {},
   "outputs": [
    {
     "data": {
      "text/html": [
       "<div>\n",
       "<style scoped>\n",
       "    .dataframe tbody tr th:only-of-type {\n",
       "        vertical-align: middle;\n",
       "    }\n",
       "\n",
       "    .dataframe tbody tr th {\n",
       "        vertical-align: top;\n",
       "    }\n",
       "\n",
       "    .dataframe thead th {\n",
       "        text-align: right;\n",
       "    }\n",
       "</style>\n",
       "<table border=\"1\" class=\"dataframe\">\n",
       "  <thead>\n",
       "    <tr style=\"text-align: right;\">\n",
       "      <th></th>\n",
       "      <th>fage</th>\n",
       "      <th>mage</th>\n",
       "      <th>mature</th>\n",
       "      <th>weeks</th>\n",
       "      <th>premie</th>\n",
       "      <th>visits</th>\n",
       "      <th>gained</th>\n",
       "      <th>weight</th>\n",
       "      <th>lowbirthweight</th>\n",
       "      <th>sex</th>\n",
       "      <th>habit</th>\n",
       "      <th>marital</th>\n",
       "      <th>whitemom</th>\n",
       "    </tr>\n",
       "  </thead>\n",
       "  <tbody>\n",
       "    <tr>\n",
       "      <th>0</th>\n",
       "      <td>34.0</td>\n",
       "      <td>34</td>\n",
       "      <td>younger mom</td>\n",
       "      <td>37</td>\n",
       "      <td>full term</td>\n",
       "      <td>14.0</td>\n",
       "      <td>28.0</td>\n",
       "      <td>6.96</td>\n",
       "      <td>not low</td>\n",
       "      <td>male</td>\n",
       "      <td>nonsmoker</td>\n",
       "      <td>married</td>\n",
       "      <td>white</td>\n",
       "    </tr>\n",
       "    <tr>\n",
       "      <th>1</th>\n",
       "      <td>36.0</td>\n",
       "      <td>31</td>\n",
       "      <td>younger mom</td>\n",
       "      <td>41</td>\n",
       "      <td>full term</td>\n",
       "      <td>12.0</td>\n",
       "      <td>41.0</td>\n",
       "      <td>8.86</td>\n",
       "      <td>not low</td>\n",
       "      <td>female</td>\n",
       "      <td>nonsmoker</td>\n",
       "      <td>married</td>\n",
       "      <td>white</td>\n",
       "    </tr>\n",
       "    <tr>\n",
       "      <th>2</th>\n",
       "      <td>37.0</td>\n",
       "      <td>36</td>\n",
       "      <td>mature mom</td>\n",
       "      <td>37</td>\n",
       "      <td>full term</td>\n",
       "      <td>10.0</td>\n",
       "      <td>28.0</td>\n",
       "      <td>7.51</td>\n",
       "      <td>not low</td>\n",
       "      <td>female</td>\n",
       "      <td>nonsmoker</td>\n",
       "      <td>married</td>\n",
       "      <td>not white</td>\n",
       "    </tr>\n",
       "    <tr>\n",
       "      <th>3</th>\n",
       "      <td>NaN</td>\n",
       "      <td>16</td>\n",
       "      <td>younger mom</td>\n",
       "      <td>38</td>\n",
       "      <td>full term</td>\n",
       "      <td>NaN</td>\n",
       "      <td>29.0</td>\n",
       "      <td>6.19</td>\n",
       "      <td>not low</td>\n",
       "      <td>male</td>\n",
       "      <td>nonsmoker</td>\n",
       "      <td>not married</td>\n",
       "      <td>white</td>\n",
       "    </tr>\n",
       "    <tr>\n",
       "      <th>4</th>\n",
       "      <td>32.0</td>\n",
       "      <td>31</td>\n",
       "      <td>younger mom</td>\n",
       "      <td>36</td>\n",
       "      <td>premie</td>\n",
       "      <td>12.0</td>\n",
       "      <td>48.0</td>\n",
       "      <td>6.75</td>\n",
       "      <td>not low</td>\n",
       "      <td>female</td>\n",
       "      <td>nonsmoker</td>\n",
       "      <td>married</td>\n",
       "      <td>white</td>\n",
       "    </tr>\n",
       "    <tr>\n",
       "      <th>5</th>\n",
       "      <td>32.0</td>\n",
       "      <td>26</td>\n",
       "      <td>younger mom</td>\n",
       "      <td>39</td>\n",
       "      <td>full term</td>\n",
       "      <td>14.0</td>\n",
       "      <td>45.0</td>\n",
       "      <td>6.69</td>\n",
       "      <td>not low</td>\n",
       "      <td>female</td>\n",
       "      <td>nonsmoker</td>\n",
       "      <td>married</td>\n",
       "      <td>white</td>\n",
       "    </tr>\n",
       "    <tr>\n",
       "      <th>6</th>\n",
       "      <td>37.0</td>\n",
       "      <td>36</td>\n",
       "      <td>mature mom</td>\n",
       "      <td>36</td>\n",
       "      <td>premie</td>\n",
       "      <td>10.0</td>\n",
       "      <td>20.0</td>\n",
       "      <td>6.13</td>\n",
       "      <td>not low</td>\n",
       "      <td>female</td>\n",
       "      <td>nonsmoker</td>\n",
       "      <td>married</td>\n",
       "      <td>white</td>\n",
       "    </tr>\n",
       "    <tr>\n",
       "      <th>7</th>\n",
       "      <td>29.0</td>\n",
       "      <td>24</td>\n",
       "      <td>younger mom</td>\n",
       "      <td>40</td>\n",
       "      <td>full term</td>\n",
       "      <td>13.0</td>\n",
       "      <td>65.0</td>\n",
       "      <td>6.74</td>\n",
       "      <td>not low</td>\n",
       "      <td>male</td>\n",
       "      <td>nonsmoker</td>\n",
       "      <td>not married</td>\n",
       "      <td>white</td>\n",
       "    </tr>\n",
       "    <tr>\n",
       "      <th>8</th>\n",
       "      <td>30.0</td>\n",
       "      <td>32</td>\n",
       "      <td>younger mom</td>\n",
       "      <td>39</td>\n",
       "      <td>full term</td>\n",
       "      <td>15.0</td>\n",
       "      <td>25.0</td>\n",
       "      <td>8.94</td>\n",
       "      <td>not low</td>\n",
       "      <td>female</td>\n",
       "      <td>nonsmoker</td>\n",
       "      <td>married</td>\n",
       "      <td>white</td>\n",
       "    </tr>\n",
       "    <tr>\n",
       "      <th>9</th>\n",
       "      <td>29.0</td>\n",
       "      <td>26</td>\n",
       "      <td>younger mom</td>\n",
       "      <td>39</td>\n",
       "      <td>full term</td>\n",
       "      <td>11.0</td>\n",
       "      <td>22.0</td>\n",
       "      <td>9.12</td>\n",
       "      <td>not low</td>\n",
       "      <td>male</td>\n",
       "      <td>nonsmoker</td>\n",
       "      <td>not married</td>\n",
       "      <td>not white</td>\n",
       "    </tr>\n",
       "  </tbody>\n",
       "</table>\n",
       "</div>"
      ],
      "text/plain": [
       "   fage  mage       mature  weeks     premie  visits  gained  weight  \\\n",
       "0  34.0    34  younger mom     37  full term    14.0    28.0    6.96   \n",
       "1  36.0    31  younger mom     41  full term    12.0    41.0    8.86   \n",
       "2  37.0    36   mature mom     37  full term    10.0    28.0    7.51   \n",
       "3   NaN    16  younger mom     38  full term     NaN    29.0    6.19   \n",
       "4  32.0    31  younger mom     36     premie    12.0    48.0    6.75   \n",
       "5  32.0    26  younger mom     39  full term    14.0    45.0    6.69   \n",
       "6  37.0    36   mature mom     36     premie    10.0    20.0    6.13   \n",
       "7  29.0    24  younger mom     40  full term    13.0    65.0    6.74   \n",
       "8  30.0    32  younger mom     39  full term    15.0    25.0    8.94   \n",
       "9  29.0    26  younger mom     39  full term    11.0    22.0    9.12   \n",
       "\n",
       "  lowbirthweight     sex      habit      marital   whitemom  \n",
       "0        not low    male  nonsmoker      married      white  \n",
       "1        not low  female  nonsmoker      married      white  \n",
       "2        not low  female  nonsmoker      married  not white  \n",
       "3        not low    male  nonsmoker  not married      white  \n",
       "4        not low  female  nonsmoker      married      white  \n",
       "5        not low  female  nonsmoker      married      white  \n",
       "6        not low  female  nonsmoker      married      white  \n",
       "7        not low    male  nonsmoker  not married      white  \n",
       "8        not low  female  nonsmoker      married      white  \n",
       "9        not low    male  nonsmoker  not married  not white  "
      ]
     },
     "execution_count": 2,
     "metadata": {},
     "output_type": "execute_result"
    }
   ],
   "source": [
    "df = pd.read_csv('births14.csv')\n",
    "df.head(10)"
   ]
  },
  {
   "cell_type": "code",
   "execution_count": 3,
   "metadata": {},
   "outputs": [],
   "source": [
    "#remove na values\n",
    "df.dropna(inplace=True)\n"
   ]
  },
  {
   "cell_type": "code",
   "execution_count": 4,
   "metadata": {},
   "outputs": [],
   "source": [
    "#encode the categorical feature\n",
    "df = pd.get_dummies(df, drop_first=True) #drop one of the encoded gender columns"
   ]
  },
  {
   "cell_type": "code",
   "execution_count": 5,
   "metadata": {},
   "outputs": [],
   "source": [
    "X   = df[['fage', 'mage', 'weeks', 'visits', 'gained', 'habit_smoker']] #get the input features\n",
    "y   = df['weight']              #get the target\n",
    "\n",
    "X_train, X_test, y_train, y_test = train_test_split(X,              #the input features\n",
    "                                                    y,              #the label\n",
    "                                                    test_size=0.3,  #set aside 30% of the data as the test set\n",
    "                                                    random_state=7 #reproduce the results\n",
    "                                                   )"
   ]
  },
  {
   "cell_type": "code",
   "execution_count": 6,
   "metadata": {},
   "outputs": [
    {
     "data": {
      "text/plain": [
       "DecisionTreeRegressor(random_state=7)"
      ]
     },
     "execution_count": 6,
     "metadata": {},
     "output_type": "execute_result"
    }
   ],
   "source": [
    "dt = DecisionTreeRegressor(random_state=7)\n",
    "dt.fit(X_train, y_train)"
   ]
  },
  {
   "cell_type": "code",
   "execution_count": 7,
   "metadata": {},
   "outputs": [
    {
     "name": "stdout",
     "output_type": "stream",
     "text": [
      "The predicted birth weight is: [ 6.03  6.44  7.87  6.49  7.37  7.84  6.69  4.85  7.81  6.32  7.74  6.94\n",
      "  8.19  8.88  5.91  7.5   7.12  5.06  8.75  5.47  9.68  8.19  8.6   8.16\n",
      "  7.98  5.69  6.81  6.69  8.31  6.32  5.5   8.25  5.56  8.25  8.87  7.69\n",
      "  9.24  7.13  5.5   7.13  6.44  7.13  8.31  8.75  6.32  7.34  7.81  5.13\n",
      "  5.81  7.25 10.13  8.5   8.62  6.44  5.81  8.56  6.5   6.57  7.75  6.5\n",
      "  6.88  5.89  6.32  5.75  6.25  6.89  9.    6.72  8.61  7.78  8.14  5.81\n",
      "  9.63  9.39  8.87  9.25  7.09  5.88  6.19  5.11  8.75  7.81  7.56  7.5\n",
      "  7.87  7.56  6.33  5.82  4.85  7.39  7.47  7.19  6.69  8.12  9.68  7.87\n",
      "  6.94  7.09  8.31  5.99  8.28  6.53  5.93  9.19  5.68  6.75  6.92  6.13\n",
      "  9.19  7.13  7.19  7.63  7.75  8.07  8.7   4.85  6.06  6.94  7.01  7.67\n",
      "  7.81  8.27  6.69  8.54  8.88  6.94  8.5   7.75  7.25  8.54  8.25  6.93\n",
      "  4.31  7.75  9.    4.38  6.96  5.81  8.    8.11  9.    7.54  7.75  9.24\n",
      "  8.81  5.51  7.59  7.87  7.56  6.56  8.07  7.45  7.84  8.5   6.21  6.06\n",
      "  6.83  7.13  7.94  8.88  7.25  7.87  8.75  7.    7.37  5.93  9.41  5.06\n",
      "  7.19  4.63  6.13  7.25  5.29  8.62  3.97  9.    7.01  7.    6.84  7.71\n",
      "  7.61  6.08  8.01  8.73  5.81  5.89  8.25  8.75  1.81  2.5   7.3   5.81\n",
      "  8.38  6.25  5.82  8.61  7.75  8.75  6.05  6.92  6.95  6.56  6.56  4.32\n",
      "  6.94  8.44  7.95  7.45  8.44  7.13  8.31  7.75  5.75  3.97  5.13  7.75\n",
      "  7.61  7.61  6.94  8.37  8.38  7.89  7.13  7.96  6.21  7.63  7.3   6.87\n",
      "  7.49  7.75  6.93  5.94  8.18  8.25  5.37  9.12  5.88  6.36  6.27]\n"
     ]
    }
   ],
   "source": [
    "#predict the labels for the test set\n",
    "y_pred   = dt.predict(X_test)\n",
    "\n",
    "print('The predicted birth weight is: {}'.format(y_pred))"
   ]
  },
  {
   "cell_type": "code",
   "execution_count": 8,
   "metadata": {},
   "outputs": [
    {
     "name": "stdout",
     "output_type": "stream",
     "text": [
      "The mse of the model is: 2.0518025104602513\n"
     ]
    }
   ],
   "source": [
    "mse = mean_squared_error(y_test, y_pred)\n",
    "\n",
    "# Evaluate the Predictions\n",
    "print('The mse of the model is: {}'.format(mse))"
   ]
  },
  {
   "cell_type": "code",
   "execution_count": null,
   "metadata": {},
   "outputs": [],
   "source": []
  },
  {
   "cell_type": "code",
   "execution_count": null,
   "metadata": {},
   "outputs": [],
   "source": []
  },
  {
   "cell_type": "markdown",
   "metadata": {},
   "source": [
    "## Lets compare the results with K-nn Regressor\n",
    "https://scikit-learn.org/stable/modules/generated/sklearn.neighbors.KNeighborsRegressor.html"
   ]
  },
  {
   "cell_type": "code",
   "execution_count": 9,
   "metadata": {},
   "outputs": [
    {
     "data": {
      "image/png": "[encoded data removed]",
      "text/plain": [
       "<Figure size 432x288 with 1 Axes>"
      ]
     },
     "metadata": {},
     "output_type": "display_data"
    }
   ],
   "source": [
    "from sklearn.neighbors import KNeighborsRegressor\n",
    "\n",
    "#identify a suitable value of k\n",
    "predictions = {}\n",
    "\n",
    "for k in range(3, 50, 2): #increment k by 2\n",
    "    knn = KNeighborsRegressor(n_neighbors = k) #initialize the classifier and set the number of neighbors\n",
    "    knn.fit(X_train, y_train)\n",
    "    y_pred_knn = knn.predict(X_test)\n",
    "    predictions[k] = mean_squared_error(y_test, y_pred_knn)\n",
    "    \n",
    "sns.lineplot(x=predictions.keys(), y=predictions.values())\n",
    "plt.show()    "
   ]
  },
  {
   "cell_type": "markdown",
   "metadata": {},
   "source": [
    "The knn models have a lower prediction error than the decision tree model. Does this mean its a better model or do we need to optimize our decision tree?"
   ]
  },
  {
   "cell_type": "code",
   "execution_count": null,
   "metadata": {},
   "outputs": [],
   "source": []
  }
 ],
 "metadata": {
  "kernelspec": {
   "display_name": "Python 3 (ipykernel)",
   "language": "python",
   "name": "python3"
  },
  "language_info": {
   "codemirror_mode": {
    "name": "ipython",
    "version": 3
   },
   "file_extension": ".py",
   "mimetype": "text/x-python",
   "name": "python",
   "nbconvert_exporter": "python",
   "pygments_lexer": "ipython3",
   "version": "3.11.4"
  }
 },
 "nbformat": 4,
 "nbformat_minor": 4
}
